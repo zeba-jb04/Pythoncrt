{
 "cells": [
  {
   "cell_type": "code",
   "execution_count": null,
   "id": "b5d896c5",
   "metadata": {},
   "outputs": [],
   "source": [
    "# write a python [program] to raed \n",
    "num1=int(input('Enter the first number :'))\n",
    "num2=int(input('Enter the second number :'))\n",
    "print(f\"summation : {num1+num2}\")\n"
   ]
  },
  {
   "cell_type": "code",
   "execution_count": null,
   "id": "b7f6d946",
   "metadata": {},
   "outputs": [],
   "source": [
    "#write a python program to read an integer value and check whether it is a digit or number\n",
    "\n",
    "num=int(input('Enter the integer :'))\n",
    "#if-else\n",
    "if(num>=-9 and num<=9):\n",
    "    print(\"Digit\")\n",
    "else:\n",
    "    print(\"Number\")\n",
    "#ternary operator\n",
    "res=\"Digit\" if (num>=-9 and num<=9) else \"Number\" \n",
    "print(res)   "
   ]
  },
  {
   "cell_type": "code",
   "execution_count": null,
   "id": "1a8c5147",
   "metadata": {},
   "outputs": [],
   "source": [
    "#write python program to raed an integer as input from user and check whether it is a two digit number or not two digit number\n",
    "ternary operator\n",
    "dig=int(input('Enter a number:'))\n",
    "res=\"2 digit number\" if ((dig>=-99 and dig<=-10)or(dig>=10 and dig<=99)) else \"Not a 2 digit Number\"\n",
    "print(res)\n",
    "\n",
    "normal\n",
    "num=int(input('Enter the integer :'))\n",
    "#if-else\n",
    "if((num>=10 and num<=99) or (num>=-99 and num<=-10)):\n",
    "    print(\"Two Digit Number\")\n",
    "else: \n",
    "    print(\"Not a two digit a number\")    "
   ]
  },
  {
   "cell_type": "code",
   "execution_count": null,
   "id": "53763166",
   "metadata": {},
   "outputs": [],
   "source": [
    "#write a python program to read an integer as input from the user & check whether it is a three digit number or not\n",
    "dig=int(input('Enter a number:'))\n",
    "res=\"3 digit number\" if ((dig>=-999 and dig<=-100)or(dig>=100 and dig<=999)) else \"Not a 3 digit Number\"\n",
    "print(res)\n",
    "\n"
   ]
  },
  {
   "cell_type": "code",
   "execution_count": null,
   "id": "fe1202bd",
   "metadata": {},
   "outputs": [],
   "source": [
    "#write a python program to read an integer as input from the user & check whether it is a 4 digit number or not\n",
    "dig=int(input('Enter a number:'))\n",
    "res=\"4 digit number\" if ((dig>=-9999 and dig<=-1000)or(dig>=1000 and dig<=9999)) else \"Not a 4 digit Number\"\n",
    "print(res)"
   ]
  },
  {
   "cell_type": "code",
   "execution_count": null,
   "id": "cff23540",
   "metadata": {},
   "outputs": [],
   "source": [
    "#write a py progran to read two integer values as input from the user and find largest number using ternary number and\n",
    "num1=int(input('Enter the first number :'))\n",
    "num2=int(input('Enter the second number : '))\n",
    "#if-else\n",
    "if(num1>num2):\n",
    "    print(f\"{num1} is largest number.\")\n",
    "else:\n",
    "    print(f\"{num2} is largest number.\")\n",
    "#ternary operator\n",
    "res=num1 if(num1>num2) else num2\n",
    "print(f\"{res} is largest number.\")       "
   ]
  },
  {
   "cell_type": "code",
   "execution_count": null,
   "id": "b52a7aba",
   "metadata": {},
   "outputs": [],
   "source": [
    "# write a py program to read three integer values as input from user and find smallest number using both if-else and ternary operator\n",
    "num1=int(input('Enter the first number :'))\n",
    "num2=int(input('Enter the second number :'))\n",
    "num3=int(input('Enter the third number :'))\n",
    "#if-else\n",
    "if(num1<num2) and (num1<num3):\n",
    "    print(f\"{num1} is num1 smallest number.\")\n",
    "elif(num1<num2) and (num1<num3):\n",
    "    print(f\"{num2} is num2 smallest number.\")\n",
    "else: \n",
    "    print(f\"{num3} is num3 smallest number.\") \n",
    "\n",
    "#write a py program to read three integer values as input from the user and find the midddle number using if-else and ternary operator\n",
    "\n",
    "\n",
    "#write a py program to read the month number as input from the user and print respective number of days present in that particular month\n",
    "\n",
    " \n"
   ]
  },
  {
   "cell_type": "code",
   "execution_count": 3,
   "id": "b6506069",
   "metadata": {},
   "outputs": [
    {
     "name": "stdout",
     "output_type": "stream",
     "text": [
      "month valid\n"
     ]
    }
   ],
   "source": [
    "#write a py program to read the month number as input from the user and check whether it is a valid month number or not \n",
    "\n",
    "mon=int(input('Enter a month number'))\n",
    "res=\"month valid\" if (mon>=1 and mon<=12) else \"Invalid month number\"\n",
    "print(res)  "
   ]
  },
  {
   "cell_type": "code",
   "execution_count": 9,
   "id": "63ce952b",
   "metadata": {},
   "outputs": [
    {
     "name": "stdout",
     "output_type": "stream",
     "text": [
      "28 or 29 Days\n"
     ]
    }
   ],
   "source": [
    "#write a py program to read the month number as input from the user and print respective number of days present in that particular month\n",
    "mon=int(input('Enter month number: '))\n",
    "\n",
    "if(mon==1 or mon==3 or mon==5 or mon==7 or mon==8 or mon==10 or mon==12):\n",
    "    print(\"31 Days\")\n",
    "\n",
    "elif(mon==2):\n",
    "    print(\"28 or 29 Days\")\n",
    "\n",
    "elif(mon==4 or mon==6 or mon==9 or mon==11):\n",
    "    print(\"30 Days\")\n",
    "\n",
    "else:\n",
    "    print(\"Invalid month number\")"
   ]
  },
  {
   "cell_type": "code",
   "execution_count": 10,
   "id": "841e785c",
   "metadata": {},
   "outputs": [
    {
     "name": "stdout",
     "output_type": "stream",
     "text": [
      "eligible\n"
     ]
    }
   ],
   "source": [
    "# write a py program to check whether user entered age is eligible to vote or not\n",
    "age=int(input('Enter a age: '))\n",
    "if(age>=18):\n",
    "    print(\"eligible\")\n",
    "else:\n",
    "    print(\"not eligible\")    "
   ]
  },
  {
   "cell_type": "code",
   "execution_count": 16,
   "id": "644f21d2",
   "metadata": {},
   "outputs": [
    {
     "name": "stdout",
     "output_type": "stream",
     "text": [
      "it is even\n"
     ]
    }
   ],
   "source": [
    "# write a py program to read an integer value as integer from user and check whether it is even or not \n",
    "num=int(input('Enter a num: '))\n",
    "if(num%2==0):\n",
    "    print(\"it is even\")\n",
    "else:\n",
    "    print(\"it is odd\")    "
   ]
  },
  {
   "cell_type": "code",
   "execution_count": 21,
   "id": "9dbb2d17",
   "metadata": {},
   "outputs": [
    {
     "name": "stdout",
     "output_type": "stream",
     "text": [
      "not multiple of 3 and 5\n"
     ]
    }
   ],
   "source": [
    "# write a py program to read an integer value as input from the user and check whether it is a multiple of 3 and 5 or not\n",
    "n=int(input('Enter a num:'))\n",
    "if(n%3==0 and n%5==0):\n",
    "    print(\"multiple of 3 and 5\")\n",
    "else:\n",
    "    print(\"not multiple of 3 and 5\")    "
   ]
  },
  {
   "cell_type": "code",
   "execution_count": 4,
   "id": "31528659",
   "metadata": {},
   "outputs": [
    {
     "name": "stdout",
     "output_type": "stream",
     "text": [
      "fizzbuzz\n"
     ]
    }
   ],
   "source": [
    "# write a py program to read an integr value as input and print fizzbuzz if it is divisible by 3 and 5 fizz if divisible by 3 and buzz if divisible  by 5\n",
    "n=int(input(\"Enter a number :\"))\n",
    "if(n%3==0 and n%5==0):\n",
    "    print(\"fizzbuzz\")\n",
    "elif(n%3==0):\n",
    "    print(\"fizz\")\n",
    "elif(n%5==0):\n",
    "    print(\"buzz\")        "
   ]
  },
  {
   "cell_type": "code",
   "execution_count": null,
   "id": "71af1871",
   "metadata": {},
   "outputs": [],
   "source": [
    "#write a py program to read amount as input from the user and print number of notes required in india currency dimension\n",
    "\n",
    "amt=int(input(\"Enter the amt :\"))\n",
    "\n",
    "\n",
    "          \n"
   ]
  }
 ],
 "metadata": {
  "kernelspec": {
   "display_name": "Python 3",
   "language": "python",
   "name": "python3"
  },
  "language_info": {
   "codemirror_mode": {
    "name": "ipython",
    "version": 3
   },
   "file_extension": ".py",
   "mimetype": "text/x-python",
   "name": "python",
   "nbconvert_exporter": "python",
   "pygments_lexer": "ipython3",
   "version": "3.13.3"
  }
 },
 "nbformat": 4,
 "nbformat_minor": 5
}
