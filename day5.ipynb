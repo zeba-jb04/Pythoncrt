{
 "cells": [
  {
   "cell_type": "markdown",
   "id": "594db5a7",
   "metadata": {},
   "source": [
    "Day 05 - 13/09/2025\n",
    "Strings"
   ]
  },
  {
   "cell_type": "code",
   "execution_count": 2,
   "id": "b133a74d",
   "metadata": {},
   "outputs": [
    {
     "name": "stdout",
     "output_type": "stream",
     "text": [
      "AthIYA\n",
      "ATHIYA\n",
      "aTHiya\n"
     ]
    }
   ],
   "source": [
    "string = input(\"Enter the String : \")\n",
    "print(string)\n",
    "print(string.upper())\n",
    "print(string.swapcase())"
   ]
  },
  {
   "cell_type": "markdown",
   "id": "b2be50ff",
   "metadata": {},
   "source": [
    "Write a python program to read name of the user and print the length of the name and check if it is more than 5 characters"
   ]
  },
  {
   "cell_type": "code",
   "execution_count": 3,
   "id": "bbe9a62f",
   "metadata": {},
   "outputs": [
    {
     "name": "stdout",
     "output_type": "stream",
     "text": [
      "Length of Name :  12\n",
      "More than 5 characters\n"
     ]
    }
   ],
   "source": [
    "name = input('Enter Your Name')\n",
    "print(\"Length of Name : \",len(name))\n",
    "res = \"More than 5 characters\" if (len(name)>5) else \"Not More than 5 characters\"\n",
    "print(res)"
   ]
  },
  {
   "cell_type": "markdown",
   "id": "2d052417",
   "metadata": {},
   "source": [
    "Write a python program to check if the user entered name has the charcter a or not"
   ]
  },
  {
   "cell_type": "code",
   "execution_count": 6,
   "id": "4ab86d19",
   "metadata": {},
   "outputs": [
    {
     "name": "stdout",
     "output_type": "stream",
     "text": [
      "ShamshunnisA\n",
      "String has A character\n"
     ]
    }
   ],
   "source": [
    "String = input(\"Enter the String : \")\n",
    "print(String)\n",
    "if \"a\" or \"A\" in String:\n",
    "        print(\"String has A character\")\n",
    "else:\n",
    "        print(\"Dont have A character\")\n"
   ]
  },
  {
   "cell_type": "markdown",
   "id": "a29d7b37",
   "metadata": {},
   "source": [
    "Write a python program to check how many alphabets, how many digits and how many special characters are present in the user entered string"
   ]
  },
  {
   "cell_type": "code",
   "execution_count": 10,
   "id": "2337b546",
   "metadata": {},
   "outputs": [
    {
     "name": "stdout",
     "output_type": "stream",
     "text": [
      "abcdefg@#!$%^&  123456789\n",
      "Count of Alphabetic Characters is 7\n",
      "Count of Digit is 9\n",
      "Count of Special Character is 9\n"
     ]
    }
   ],
   "source": [
    "String= input(\"Enter the String : \")\n",
    "print(String)\n",
    "alpha,digit,spclchar = 0,0,0\n",
    "for i in String:\n",
    "    if i.isalpha():\n",
    "        alpha+=1\n",
    "    elif i.isdigit():\n",
    "        digit +=1\n",
    "    else:\n",
    "        spclchar+=1\n",
    "print(f\"Count of Alphabetic Characters is {alpha}\")\n",
    "print(f\"Count of Digit is {digit}\")\n",
    "print(f\"Count of Special Character is {spclchar}\")"
   ]
  },
  {
   "cell_type": "markdown",
   "id": "82bd3e80",
   "metadata": {},
   "source": [
    "write a python program to check the count of Vowels and consonents present in the user entered string"
   ]
  },
  {
   "cell_type": "code",
   "execution_count": null,
   "id": "ee3ca0bb",
   "metadata": {},
   "outputs": [
    {
     "name": "stdout",
     "output_type": "stream",
     "text": [
      "Vowel Count is 4\n",
      "Consonent Count is 8\n"
     ]
    }
   ],
   "source": [
    "String = input(\"Enter the String : \")\n",
    "vowel,consonent= 0,0\n",
    "for ch in String:\n",
    "    if ch.isalpha():\n",
    "        if ch in \"aeiou\":\n",
    "            vowel+=1\n",
    "        else:\n",
    "            consonent+=1\n",
    "print(f\"Vowel Count is {vowel}\")\n",
    "print(f\"Consonent Count is {consonent}\")"
   ]
  },
  {
   "cell_type": "code",
   "execution_count": 22,
   "id": "2f5fad11",
   "metadata": {},
   "outputs": [
    {
     "name": "stdout",
     "output_type": "stream",
     "text": [
      "PythonProgramming\n",
      "Python\n",
      "thon\n",
      "PtoPormig\n",
      "yhnrgamn\n",
      "Program\n"
     ]
    }
   ],
   "source": [
    "Str = \"PythonProgramming\"\n",
    "print(Str)\n",
    "print(Str[0:6:])\n",
    "print(Str[2:6:])\n",
    "print(Str[0::+2])\n",
    "print(Str[1::+2])\n",
    "print(Str[6:13:])"
   ]
  },
  {
   "cell_type": "markdown",
   "id": "fde46db2",
   "metadata": {},
   "source": [
    "Write a python number to read your 12 digit aadhar number as input from the user and print the 12 digit number where the first 8 digits are hidden the last four digits visible"
   ]
  },
  {
   "cell_type": "code",
   "execution_count": 35,
   "id": "fb33f7c2",
   "metadata": {},
   "outputs": [
    {
     "name": "stdout",
     "output_type": "stream",
     "text": [
      "Encrypted Aadhaar Number : XXXX XXXX 9123\n"
     ]
    }
   ],
   "source": [
    "adno = input(\"Enter Your Aadhar Number\")\n",
    "print(f\"Encrypted Aadhaar Number : {adno.replace(adno[0:9:],'XXXX XXXX')}\")"
   ]
  },
  {
   "cell_type": "markdown",
   "id": "7d7e37d9",
   "metadata": {},
   "source": [
    "Tuple packing -  when we create tuple with out brackets"
   ]
  },
  {
   "cell_type": "code",
   "execution_count": 1,
   "id": "48f17b70",
   "metadata": {},
   "outputs": [
    {
     "name": "stdout",
     "output_type": "stream",
     "text": [
      "(10, 20, 30, 40, 50, 60)\n",
      "<class 'tuple'>\n"
     ]
    }
   ],
   "source": [
    "num = 10,20,30,40,50,60\n",
    "print(num)\n",
    "print(type(num))"
   ]
  },
  {
   "cell_type": "markdown",
   "id": "ab44dda8",
   "metadata": {},
   "source": [
    "Tuple unpacking "
   ]
  },
  {
   "cell_type": "code",
   "execution_count": 2,
   "id": "011866f0",
   "metadata": {},
   "outputs": [
    {
     "name": "stdout",
     "output_type": "stream",
     "text": [
      "10\n",
      "20\n",
      "30\n",
      "40\n",
      "50\n",
      "60\n"
     ]
    }
   ],
   "source": [
    "a,b,c,d,e,f=num\n",
    "print(a)\n",
    "print(b)\n",
    "print(c)\n",
    "print(d)\n",
    "print(e)\n",
    "print(f)"
   ]
  },
  {
   "cell_type": "markdown",
   "id": "09324853",
   "metadata": {},
   "source": [
    "write a python program to to read 2 integer vales as input from the user and swap the values of the two integers\n",
    "1.  using arithmetic operators\n",
    "2.  using third variable\n",
    "3.  without using any variable"
   ]
  },
  {
   "cell_type": "code",
   "execution_count": 6,
   "id": "a5805bd8",
   "metadata": {},
   "outputs": [
    {
     "name": "stdout",
     "output_type": "stream",
     "text": [
      "Before Swapping : a = 10 , b = 30\n",
      "After Swapping : a = 30 , b = 10\n"
     ]
    }
   ],
   "source": [
    "a = int(input(\"Enter the value of 1st integer\"))\n",
    "b = int(input(\"Enter the value of 2nd integer\"))\n",
    "print(f\"Before Swapping : a = {a} , b = {b}\")\n",
    "a = a + b\n",
    "b = a - b\n",
    "a = a - b\n",
    "print(f\"After Swapping : a = {a} , b = {b}\")\n"
   ]
  },
  {
   "cell_type": "code",
   "execution_count": 7,
   "id": "8a5e2365",
   "metadata": {},
   "outputs": [
    {
     "name": "stdout",
     "output_type": "stream",
     "text": [
      "Before Swapping : a = 10 , b = 20\n",
      "After Swapping : a = 20 , b = 10\n"
     ]
    }
   ],
   "source": [
    "a = int(input(\"Enter the value of 1st integer\"))\n",
    "b = int(input(\"Enter the value of 2nd integer\"))\n",
    "print(f\"Before Swapping : a = {a} , b = {b}\")\n",
    "temp = a\n",
    "a = b\n",
    "b = temp\n",
    "print(f\"After Swapping : a = {a} , b = {b}\")"
   ]
  },
  {
   "cell_type": "code",
   "execution_count": 8,
   "id": "6c186ea4",
   "metadata": {},
   "outputs": [
    {
     "name": "stdout",
     "output_type": "stream",
     "text": [
      "Before Swapping : a = 10 , b = 100\n",
      "After Swapping : a = 100 , b = 10\n"
     ]
    }
   ],
   "source": [
    "a = int(input(\"Enter the value of 1st integer\"))\n",
    "b = int(input(\"Enter the value of 2nd integer\"))\n",
    "print(f\"Before Swapping : a = {a} , b = {b}\")\n",
    "a,b = b,a\n",
    "print(f\"After Swapping : a = {a} , b = {b}\")"
   ]
  },
  {
   "cell_type": "markdown",
   "id": "9297116e",
   "metadata": {},
   "source": [
    "Write a python program to check weather the user entered integer is a prime number or not"
   ]
  },
  {
   "cell_type": "code",
   "execution_count": 10,
   "id": "79e9c8f7",
   "metadata": {},
   "outputs": [
    {
     "name": "stdout",
     "output_type": "stream",
     "text": [
      "19 is Prime Number\n"
     ]
    }
   ],
   "source": [
    "num = int(input(\"Enter the Integer Value : \"))\n",
    "factor = 0\n",
    "for i in range(1, num+1):\n",
    "    if(num % i == 0):\n",
    "        factor += 1\n",
    "res = \"Prime Number\" if(factor == 2) else \"Not a Prime Number\"\n",
    "print(f\"{num} is {res}\")"
   ]
  },
  {
   "cell_type": "markdown",
   "id": "e4c71b85",
   "metadata": {},
   "source": [
    "Write a python program to read an integer value as input from user and check whether it is a Prime Palindrome or not."
   ]
  },
  {
   "cell_type": "code",
   "execution_count": 19,
   "id": "70e42a44",
   "metadata": {},
   "outputs": [
    {
     "name": "stdout",
     "output_type": "stream",
     "text": [
      "Not a Prime Palindrome\n"
     ]
    }
   ],
   "source": [
    "num = int(input(\"Enter a Number\"))\n",
    "pn, rem, rev = 0,0,0\n",
    "factor = 0\n",
    "pn = num\n",
    "while(pn!=0):\n",
    "    rem = pn % 10\n",
    "    rev = rev * 10 + rem\n",
    "    pn = pn // 10\n",
    "if(num==rev):\n",
    "    for i in range(1, num + 1):\n",
    "        if(num %i == 0):\n",
    "            factor+=1\n",
    "res = \"Prime Palindrom\" if (factor == 2 and num == rev) else \"Not a Prime Palindrome\"\n",
    "print(res)\n"
   ]
  },
  {
   "cell_type": "markdown",
   "id": "d66f1a4a",
   "metadata": {},
   "source": [
    "Write a python program to read 2 integer values as input from the user and perform addition without using addition and without using built in function."
   ]
  },
  {
   "cell_type": "code",
   "execution_count": 21,
   "id": "f3e64564",
   "metadata": {},
   "outputs": [
    {
     "name": "stdout",
     "output_type": "stream",
     "text": [
      "Summation : 30\n"
     ]
    }
   ],
   "source": [
    "a = int(input(\"Enter the first digit : \"))\n",
    "b = int(input(\"Enter the second digit : \"))\n",
    "sum = a - (-b)\n",
    "print(f\"Summation : {sum}\")"
   ]
  },
  {
   "cell_type": "markdown",
   "id": "8d2f04cc",
   "metadata": {},
   "source": [
    "Write a python program to print all 3 digit palindrome numbers"
   ]
  },
  {
   "cell_type": "code",
   "execution_count": 26,
   "id": "5febe3c0",
   "metadata": {},
   "outputs": [
    {
     "name": "stdout",
     "output_type": "stream",
     "text": [
      "101,111,121,131,141,151,161,171,181,191,202,212,222,232,242,252,262,272,282,292,303,313,323,333,343,353,363,373,383,393,404,414,424,434,444,454,464,474,484,494,505,515,525,535,545,555,565,575,585,595,606,616,626,636,646,656,666,676,686,696,707,717,727,737,747,757,767,777,787,797,808,818,828,838,848,858,868,878,888,898,909,919,929,939,949,959,969,979,989,999,"
     ]
    }
   ],
   "source": [
    "for i in range(1,10):\n",
    "    for j in range(0,10):\n",
    "        print(f\"{i}{j}{i}\", end = \",\")"
   ]
  },
  {
   "cell_type": "markdown",
   "id": "a5e268f2",
   "metadata": {},
   "source": [
    "Write a python program to check whether the user entered year is a leap year or not."
   ]
  },
  {
   "cell_type": "markdown",
   "id": "469f6945",
   "metadata": {},
   "source": [
    "Write a python program to print the next 25 leap years from the user entered year "
   ]
  },
  {
   "cell_type": "markdown",
   "id": "1481e740",
   "metadata": {},
   "source": []
  }
 ],
 "metadata": {
  "kernelspec": {
   "display_name": "Python 3",
   "language": "python",
   "name": "python3"
  },
  "language_info": {
   "codemirror_mode": {
    "name": "ipython",
    "version": 3
   },
   "file_extension": ".py",
   "mimetype": "text/x-python",
   "name": "python",
   "nbconvert_exporter": "python",
   "pygments_lexer": "ipython3",
   "version": "3.12.6"
  }
 },
 "nbformat": 4,
 "nbformat_minor": 5
}
