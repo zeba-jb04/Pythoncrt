{
 "cells": [
  {
   "cell_type": "markdown",
   "id": "0d298090",
   "metadata": {},
   "source": [
    "SCENARIO BASED QUESTIONS\n",
    "___________________________________________________________________________________________________________________________"
   ]
  },
  {
   "cell_type": "markdown",
   "id": "7b9c41ba",
   "metadata": {},
   "source": [
    "1. Employee Salary Calculator with Overtime\n",
    "\n",
    "\n",
    "\n",
    "Problem statement:\n",
    "\n",
    "A company pays employees for hours worked. Standard working hours = 40. Hours beyond 40 are overtime and paid at 1.5x the hourly rate. Write a program that reads the employce name, hourly rate and hours worked (inputs may be strings-convert them), computes the salary (regular + overtime), and prints the result. Use a function to compute salary and a lambda for overtime calculation. Provide an Employee class with a method to show details."
   ]
  },
  {
   "cell_type": "code",
   "execution_count": 6,
   "id": "1ee105c5",
   "metadata": {},
   "outputs": [
    {
     "name": "stdout",
     "output_type": "stream",
     "text": [
      "Employee Name :jhn\n",
      "Total Salary : ₹9500.00\n"
     ]
    }
   ],
   "source": [
    "class Employee:\n",
    "    def __init__(self,name,hourly_rate,hours_worked):\n",
    "        self.name = name\n",
    "        self.hourly_rate = float(hourly_rate)\n",
    "        self.hours_worked = float(hours_worked)\n",
    "    def show_details(self,salary):\n",
    "        print(f\"Employee Name :{self.name}\")\n",
    "        print(f\"Total Salary : ₹{salary:.2f}\")\n",
    "#Lambda for overtime calculTIon\n",
    "overtime_pay=lambda extra_hours,rate: extra_hours * rate * 1.5\n",
    "def calculate_salary(rate,hours):\n",
    "    if hours <= 40:\n",
    "        return hours * rate\n",
    "    else:\n",
    "        regular=40*rate\n",
    "        overtime=overtime_pay(hours - 40,rate)\n",
    "        return regular + overtime\n",
    "name = input('Enter the Employee Name : ').strip()\n",
    "rate = input('Enter the Rate of pay : ').strip()\n",
    "hours = input('Enter number of working hours : ').strip()\n",
    "emp = Employee(name, rate, hours)\n",
    "salary = calculate_salary(emp.hourly_rate , emp.hours_worked)\n",
    "emp.show_details(salary)\n",
    "\n"
   ]
  },
  {
   "cell_type": "markdown",
   "id": "20f2fb45",
   "metadata": {},
   "source": [
    "2. Student Grade Management (5 subjects)\n",
    "\n",
    "\n",
    "\n",
    "Problem statement:\n",
    "\n",
    "Read student name and 5 subject marks (could be entered as space-separated strings-convert to ints). Compute total and average, assign a grade using control flow: A (>=90). 8(75-89),C(50-74). Fail (<50). Use a Student class with a get result() method. Use a small lambda to map percentage ranges to grade labels where appropriate.\n",
    "\n",
    "Input format:\n",
    "\n",
    "student name\n",
    "\n",
    "marki mark2 mark3 mark mark5\n",
    "\n",
    "Sample Input\n",
    "\n",
    "Priya\n",
    "\n",
    "88 92 79 85 901\n",
    "\n",
    "Sample Output\n",
    "\n",
    "Student: Priya\n",
    "\n",
    "Average Marks: 86.80\n",
    "\n",
    "Grade: B"
   ]
  },
  {
   "cell_type": "code",
   "execution_count": 8,
   "id": "53c971c8",
   "metadata": {},
   "outputs": [
    {
     "name": "stdout",
     "output_type": "stream",
     "text": [
      "Student: priya\n",
      "Average Marks: 86.40\n",
      "Grade: B\n"
     ]
    }
   ],
   "source": [
    "class Student:\n",
    "    def __init__(self, name, marks):\n",
    "        self.name = name\n",
    "        self.marks = list(map(int, marks))  # convert string to int list\n",
    "\n",
    "    def get_result(self):\n",
    "        total = sum(self.marks)\n",
    "        avg = total / len(self.marks)\n",
    "\n",
    "        # Lambda for grade mapping\n",
    "        grade = (lambda p: \"A\" if p >= 90 else\n",
    "                           \"B\" if p >= 75 else\n",
    "                           \"C\" if p >= 50 else\n",
    "                           \"Fail\")(avg)\n",
    "\n",
    "        return avg, grade\n",
    "\n",
    "\n",
    "# Input\n",
    "name = input(\"Enter the student name : \").strip()\n",
    "marks = input(\"Enter 5 subject marks(space seperated) :\").split()\n",
    "\n",
    "student = Student(name, marks)\n",
    "avg, grade = student.get_result()\n",
    "\n",
    "# Output\n",
    "print(f\"Student: {student.name}\")\n",
    "print(f\"Average Marks: {avg:.2f}\")\n",
    "print(f\"Grade: {grade}\")"
   ]
  },
  {
   "cell_type": "markdown",
   "id": "d9b3a837",
   "metadata": {},
   "source": [
    "3) Online Shopping Discount System\n",
    "\n",
    "Problem statement:\n",
    "\n",
    "Read product name, price (may be string convert to float) and quantity (int). Compute total price quantity. Apply discvent, if totul ₹1000→10%, else 5%. Implement discount application via a higher order function apply_discount (discount. In, amount). Provide a Product class with final price() method.\n",
    "\n",
    "procket\n",
    "\n",
    "price\n",
    "\n",
    "Sample Impul\n",
    "\n",
    "Laptop\n",
    "\n",
    "5000\n",
    "\n",
    "Sample Outpul\n",
    "\n",
    "Frodict: Laptop\n",
    "\n",
    "Total before discount: 25000.00\n",
    "\n",
    "Final Price after discount: 22500.00"
   ]
  },
  {
   "cell_type": "code",
   "execution_count": 9,
   "id": "12f18046",
   "metadata": {},
   "outputs": [
    {
     "name": "stdout",
     "output_type": "stream",
     "text": [
      "\n",
      "Product: laptop\n",
      "Total before discount: 25000.00\n",
      "Final Price after discount: 22500.00\n"
     ]
    }
   ],
   "source": [
    "class Product:\n",
    "    def __init__(self, name, price, quantity):\n",
    "        self.name = name\n",
    "        self.price = float(price)     # ensure float\n",
    "        self.quantity = int(quantity) # ensure int\n",
    "\n",
    "    def final_price(self):\n",
    "        total = self.price * self.quantity\n",
    "\n",
    "        # Decide discount based on total\n",
    "        discount_fn = (lambda amt: 0.10 * amt if amt >= 1000 else 0.05 * amt)\n",
    "\n",
    "        # Higher-order function\n",
    "        def apply_discount(fn, amount):\n",
    "            return amount - fn(amount)\n",
    "\n",
    "        final = apply_discount(discount_fn, total)\n",
    "        return total, final\n",
    "\n",
    "\n",
    "# Input\n",
    "name = input(\"Enter product name: \").strip()\n",
    "price = input(\"Enter product price: \").strip()\n",
    "quantity = input(\"Enter quantity: \").strip()\n",
    "\n",
    "product = Product(name, price, quantity)\n",
    "total, final = product.final_price()\n",
    "\n",
    "# Output\n",
    "print(f\"\\nProduct: {product.name}\")\n",
    "print(f\"Total before discount: {total:.2f}\")\n",
    "print(f\"Final Price after discount: {final:.2f}\")"
   ]
  },
  {
   "cell_type": "markdown",
   "id": "670473fd",
   "metadata": {},
   "source": [
    "lambda x,y:x+y\n",
    "x,y (Argument list)\n",
    "x+y (Expression)\n",
    ": (Represents beginning of function)\n",
    "lambda keyword represents an anonymous function is being created.\n"
   ]
  },
  {
   "cell_type": "markdown",
   "id": "d3cac524",
   "metadata": {},
   "source": [
    "Polymorphism\n",
    "\n",
    "polymorphism is a word that came from two greek words,poly means many and morphos means forms.\n",
    "if a variable, object or method perform different behaviour according to situation, it is called polymorphism.\n",
    "performing single action multiple times.\n",
    "\n",
    "\n",
    ">Duck Typing.\n",
    ">Operator Overloading.\n",
    ">Method Overloading.\n",
    ">Method Overriding."
   ]
  },
  {
   "cell_type": "code",
   "execution_count": 11,
   "id": "fadb78e6",
   "metadata": {},
   "outputs": [
    {
     "name": "stdout",
     "output_type": "stream",
     "text": [
      "thapak thapak thapak tahpak \n",
      "tabdak tabdak tabdak tabdak\n"
     ]
    }
   ],
   "source": [
    "#Duck Typing\n",
    "class Duck:\n",
    "    def walk(self):\n",
    "        print(\"thapak thapak thapak tahpak \")\n",
    "class Horse:\n",
    "    def walk(self):\n",
    "        print(\"tabdak tabdak tabdak tabdak\")\n",
    "def myfunction(obj):\n",
    "    obj.walk()\n",
    "d=Duck()\n",
    "myfunction(d)\n",
    "h=Horse()\n",
    "myfunction(h)                    "
   ]
  },
  {
   "cell_type": "markdown",
   "id": "7d0a0d58",
   "metadata": {},
   "source": [
    "Method Overriding\n",
    "It is a Concept of providing the specific Method Implementation for the methods are inherited from super class to sub class.\n",
    "It is also known as runtime polymorphism.\n"
   ]
  },
  {
   "cell_type": "code",
   "execution_count": 15,
   "id": "e627c427",
   "metadata": {},
   "outputs": [
    {
     "name": "stdout",
     "output_type": "stream",
     "text": [
      "Engineer works..........!\n",
      "Software Engineer Works...........!\n",
      "Civil Engineer Works.........!\n"
     ]
    }
   ],
   "source": [
    "class Engineer:\n",
    "    def __init__(self):\n",
    "        pass\n",
    "    def work(self):\n",
    "        print('Engineer works..........!')\n",
    "class SoftwareEngineer(Engineer):\n",
    "    def __init__(self):\n",
    "        super().__init__()\n",
    "    def work(self):\n",
    "        print('Software Engineer Works...........!')\n",
    "class CivilEngineer(Engineer):\n",
    "    def __init__(self):\n",
    "        super().__init__()\n",
    "    def work(self):\n",
    "        print('Civil Engineer Works.........!')\n",
    "e=Engineer()\n",
    "se=SoftwareEngineer()\n",
    "c=CivilEngineer()\n",
    "e.work()\n",
    "se.work()\n",
    "c.work()\n",
    "\n",
    "\n"
   ]
  },
  {
   "cell_type": "markdown",
   "id": "b0a68539",
   "metadata": {},
   "source": [
    "Inheritance\n",
    "Acquiring the properties from one class to another class is known as inheritance.\n",
    "Types of inheritance:\n",
    "1.Single inhrtnc\n",
    "2.Multiple inhrtnc\n",
    "3.Multilevel inhrtnc\n",
    "4.Hybrid inhrtnc \n",
    "5.Hierarchial inhrtnc"
   ]
  },
  {
   "cell_type": "markdown",
   "id": "2dc5d04a",
   "metadata": {},
   "source": [
    "Encapsulation\n",
    "Wrapping up the states & behaviours of an entity into a single container & accessing using the accessor & mutator methods.\n",
    "using setter and getter method.(accessor or mutator)"
   ]
  },
  {
   "cell_type": "markdown",
   "id": "e9edd0cb",
   "metadata": {},
   "source": [
    "Abstraction\n",
    "\n",
    "It is a concept of hiding the implementation & Providing the functionality to the user.\n",
    "\n"
   ]
  },
  {
   "cell_type": "markdown",
   "id": "b2440a0d",
   "metadata": {},
   "source": [
    "4. Bank Account Simulation (deposit & withdraw)\n",
    "\n",
    "\n",
    "\n",
    "Problem statement:\n",
    "\n",
    "Simulate an account. Read customer name and initial balance (may be string float). Accept a withdrawal amount and deposit amount (convert types). Implement deposit and withdraw via functions and create a BankAccount class with deposit () and withdraw () methods. Withdrawal should refuse if insufficient balance. Apply a 1% transaction fee on withdrawals implemented with a lambda.\n",
    "\n",
    "Input format:\n",
    "\n",
    "name\n",
    "\n",
    "initial balance\n",
    "\n",
    "withdraw amount\n",
    "\n",
    "deposit_amount\n",
    "\n",
    "Sample Input\n",
    "\n",
    "Ananya\n",
    "\n",
    "5000\n",
    "\n",
    "2000\n",
    "\n",
    "3000\n",
    "\n",
    "Sample Output\n",
    "\n",
    "Ascount Holder: Anonya\n",
    "\n",
    "FLDAL Balance: 20000.00"
   ]
  },
  {
   "cell_type": "code",
   "execution_count": null,
   "id": "903bae45",
   "metadata": {},
   "outputs": [],
   "source": [
    "\n",
    "class BankAccount:\n",
    "    def __init__(self, name, balance):\n",
    "        self.name = name\n",
    "        self.balance = float(balance)\n",
    "\n",
    "    def deposit(self, amount):\n",
    "        self.balance += float(amount)\n",
    "\n",
    "    def withdraw(self, amount):\n",
    "        amount = float(amount)\n",
    "        # 1% fee applied using lambda\n",
    "        fee_calc = lambda x: x * 0.01\n",
    "        total_withdraw = amount + fee_calc(amount)\n",
    "\n",
    "        if total_withdraw <= self.balance:\n",
    "            self.balance -= total_withdraw\n",
    "        else:\n",
    "            print(\"Insufficient balance!\")\n",
    "\n",
    "    def display(self):\n",
    "        print(f\"Account Holder: {self.name}\")\n",
    "        print(f\"Final Balance: {self.balance:.2f}\")\n",
    "\n",
    "\n",
    "# -------- Input Section ----------\n",
    "name = input().strip()\n",
    "initial_balance = input().strip()\n",
    "withdraw_amt = input().strip()\n",
    "deposit_amt = input().strip()\n",
    "\n",
    "# -------- Processing ----------\n",
    "account = BankAccount(name, initial_balance)\n",
    "account.withdraw(withdraw_amt)\n",
    "account.deposit(deposit_amt)\n",
    "\n",
    "# -------- Output ----------\n",
    "account.display()"
   ]
  }
 ],
 "metadata": {
  "kernelspec": {
   "display_name": "Python 3",
   "language": "python",
   "name": "python3"
  },
  "language_info": {
   "codemirror_mode": {
    "name": "ipython",
    "version": 3
   },
   "file_extension": ".py",
   "mimetype": "text/x-python",
   "name": "python",
   "nbconvert_exporter": "python",
   "pygments_lexer": "ipython3",
   "version": "3.13.3"
  }
 },
 "nbformat": 4,
 "nbformat_minor": 5
}
