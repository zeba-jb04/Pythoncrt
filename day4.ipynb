{
 "cells": [
  {
   "cell_type": "markdown",
   "id": "0a860413",
   "metadata": {},
   "source": [
    "Day 04 - 12/09/2025                         \n",
    "Functions"
   ]
  },
  {
   "cell_type": "code",
   "execution_count": 3,
   "id": "a3c7f303",
   "metadata": {},
   "outputs": [
    {
     "name": "stdout",
     "output_type": "stream",
     "text": [
      "Python\n",
      "Java\n",
      "SQL\n",
      "c++\n"
     ]
    }
   ],
   "source": [
    "def display():\n",
    "    print('Python')\n",
    "    print('Java')\n",
    "    print('SQL')\n",
    "    print('c++')\n",
    "display()"
   ]
  },
  {
   "cell_type": "markdown",
   "id": "efffac33",
   "metadata": {},
   "source": [
    "write a python program to perform all arithmatic operations using fuctions"
   ]
  },
  {
   "cell_type": "code",
   "execution_count": 5,
   "id": "c73eb12b",
   "metadata": {},
   "outputs": [
    {
     "name": "stdout",
     "output_type": "stream",
     "text": [
      "Addition = 15\n",
      "Substraction = -5\n",
      "Multiplication = 50\n",
      "Division = 0.5\n",
      "Division = 0\n",
      "Division = 5\n"
     ]
    }
   ],
   "source": [
    "def arithmetic_operations(a,b):\n",
    "    print(f\"Addition = {a+b}\")\n",
    "    print(f\"Substraction = {a-b}\")\n",
    "    print(f\"Multiplication = {a*b}\")\n",
    "    print(f\"Division = {a/b}\")\n",
    "    print(f\"Division = {a//b}\")\n",
    "    print(f\"Division = {a%b}\")\n",
    "arithmetic_operations(5,10)"
   ]
  },
  {
   "cell_type": "code",
   "execution_count": 7,
   "id": "1f012247",
   "metadata": {},
   "outputs": [
    {
     "name": "stdout",
     "output_type": "stream",
     "text": [
      "30\n",
      "70\n"
     ]
    }
   ],
   "source": [
    "def add(a,b):\n",
    "    return a+b\n",
    "print(add(10,20))\n",
    "res = add(30,40)\n",
    "print(res)"
   ]
  },
  {
   "cell_type": "markdown",
   "id": "f5eb71c3",
   "metadata": {},
   "source": [
    "write a python program to print(multiplication table of n)"
   ]
  },
  {
   "cell_type": "code",
   "execution_count": 13,
   "id": "19122f05",
   "metadata": {},
   "outputs": [
    {
     "name": "stdout",
     "output_type": "stream",
     "text": [
      "Multiplication table of 45:\n",
      "45 X 1 = 45\n",
      "45 X 2 = 90\n",
      "45 X 3 = 135\n",
      "45 X 4 = 180\n",
      "45 X 5 = 225\n",
      "45 X 6 = 270\n",
      "45 X 7 = 315\n",
      "45 X 8 = 360\n",
      "45 X 9 = 405\n",
      "45 X 10 = 450\n",
      "\n",
      "Multiplication table of 7:\n",
      "7 X 1 = 7\n",
      "7 X 2 = 14\n",
      "7 X 3 = 21\n",
      "7 X 4 = 28\n",
      "7 X 5 = 35\n",
      "7 X 6 = 42\n",
      "7 X 7 = 49\n",
      "7 X 8 = 56\n",
      "7 X 9 = 63\n",
      "7 X 10 = 70\n",
      "\n"
     ]
    }
   ],
   "source": [
    "def mul_table(a):\n",
    "    print(f\"Multiplication table of {a}:\")\n",
    "    for i in range(1,11):\n",
    "        print(f\"{a} X {i} = {a*i}\")\n",
    "    print()\n",
    "mul_table(45)\n",
    "mul_table(7)"
   ]
  },
  {
   "cell_type": "code",
   "execution_count": 19,
   "id": "f61eb8b4",
   "metadata": {},
   "outputs": [
    {
     "name": "stdout",
     "output_type": "stream",
     "text": [
      "25 X 1 = 25\n",
      "25 X 2 = 50\n",
      "25 X 3 = 75\n",
      "25 X 4 = 100\n",
      "25 X 5 = 125\n",
      "25 X 6 = 150\n",
      "25 X 7 = 175\n",
      "25 X 8 = 200\n",
      "25 X 9 = 225\n",
      "25 X 10 = 250\n"
     ]
    }
   ],
   "source": [
    "def mul(a):\n",
    "    i=1\n",
    "    while(i<11):\n",
    "        print(f\"{a} X {i} = {a*i}\")\n",
    "        i+=1\n",
    "mul(25)\n"
   ]
  },
  {
   "cell_type": "markdown",
   "id": "7dff40e2",
   "metadata": {},
   "source": [
    "write a python program to calculate the simple interest by using a parameterised function"
   ]
  },
  {
   "cell_type": "code",
   "execution_count": 21,
   "id": "f8add5fc",
   "metadata": {},
   "outputs": [
    {
     "name": "stdout",
     "output_type": "stream",
     "text": [
      "Simple Interest : 7900.8\n"
     ]
    }
   ],
   "source": [
    "def cal_si(p,t,r):\n",
    "    interest =  (p*t*r)/100\n",
    "    print(f\"Simple Interest : {interest}\")\n",
    "\n",
    "cal_si(12345,2,32)"
   ]
  },
  {
   "cell_type": "markdown",
   "id": "6e8f191a",
   "metadata": {},
   "source": [
    "Complexities\n",
    "1.  Time Complexity : Time complexity is used to measure the amount of time required to execute the code\n",
    "2.  Space complexity : Space complexity means the amount of space required to execute successfully the functionalities of the code"
   ]
  },
  {
   "cell_type": "markdown",
   "id": "956ec592",
   "metadata": {},
   "source": [
    "Notations:\n",
    "1.  Big - O notation: worst case scenario\n",
    "2.  Omega Notation : Best - Case scenario\n",
    "3.  Theta Notation : the avarage complexity of an algorithm"
   ]
  },
  {
   "cell_type": "markdown",
   "id": "8739b98c",
   "metadata": {},
   "source": [
    "----------------------------------------------------------"
   ]
  },
  {
   "cell_type": "markdown",
   "id": "ad55075a",
   "metadata": {},
   "source": [
    "Write a python program to read the size of the list as input from the user and read the list elements as a input from the user and print the user entered list"
   ]
  },
  {
   "cell_type": "code",
   "execution_count": 1,
   "id": "5faca8c3",
   "metadata": {},
   "outputs": [
    {
     "name": "stdout",
     "output_type": "stream",
     "text": [
      "User Defined list : \n",
      "[1, 2, 3]\n"
     ]
    }
   ],
   "source": [
    "n = int(input(\"Enter the size of the list\"))\n",
    "List = []\n",
    "for i in range(n):\n",
    "    val=int(input(f\"Enter the element for {i} index :\"))\n",
    "    List.append(val)\n",
    "print(f\"User Defined list : \")\n",
    "print(List)\n"
   ]
  },
  {
   "cell_type": "markdown",
   "id": "c95c0b21",
   "metadata": {},
   "source": [
    "Write a python program to read a list as input from the user and read the list elements as alphabetic characters and print the user entered list and the sorted version of the user entered list."
   ]
  },
  {
   "cell_type": "code",
   "execution_count": 6,
   "id": "2936f746",
   "metadata": {},
   "outputs": [
    {
     "name": "stdout",
     "output_type": "stream",
     "text": [
      "User Entered List is : ['k', 'j', 'h', 'g', 'f', 'a', 'd', 'f', 'g', '']\n",
      "\n",
      "['', 'a', 'd', 'f', 'f', 'g', 'g', 'h', 'j', 'k']\n"
     ]
    }
   ],
   "source": [
    "n = int(input(\"Enter the size of the list\"))\n",
    "List = []\n",
    "for i in range(n):\n",
    "    val=input(f\"Enter the element at {i} index : \")\n",
    "    List.append(val)\n",
    "print(f\"User Entered List is : a{List}\")\n",
    "List.sort()\n",
    "print()\n",
    "print(List)\n"
   ]
  },
  {
   "cell_type": "markdown",
   "id": "ddbcf9d3",
   "metadata": {},
   "source": [
    "--------------------------------------------------"
   ]
  },
  {
   "cell_type": "markdown",
   "id": "90725211",
   "metadata": {},
   "source": [
    "Built in Methods for strings\n",
    "1.  NumberCharacter: ......2.  Space/Strip()                                                               \n",
    "1.      isalnum()          1.  |strip()\n",
    "2.      isalpha()          2.  rstrip()\n",
    "3.      isdigit()          3.  strip()\n",
    "4.      isnumeric()        4.  isSpace()\n",
    "5.      isdecimal()        5.  center()"
   ]
  },
  {
   "cell_type": "markdown",
   "id": "33cc02a1",
   "metadata": {},
   "source": []
  }
 ],
 "metadata": {
  "kernelspec": {
   "display_name": "Python 3",
   "language": "python",
   "name": "python3"
  },
  "language_info": {
   "codemirror_mode": {
    "name": "ipython",
    "version": 3
   },
   "file_extension": ".py",
   "mimetype": "text/x-python",
   "name": "python",
   "nbconvert_exporter": "python",
   "pygments_lexer": "ipython3",
   "version": "3.12.6"
  }
 },
 "nbformat": 4,
 "nbformat_minor": 5
}
