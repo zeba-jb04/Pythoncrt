{
 "cells": [
  {
   "cell_type": "code",
   "execution_count": null,
   "id": "3341822e",
   "metadata": {},
   "outputs": [],
   "source": [
    "1.#ATM withdrawal validation"
   ]
  },
  {
   "cell_type": "code",
   "execution_count": null,
   "id": "d4d9a009",
   "metadata": {},
   "outputs": [
    {
     "name": "stdout",
     "output_type": "stream",
     "text": [
      "insufficient balance\n"
     ]
    }
   ],
   "source": [
    "amt=int(input('Enter the amt:'))\n",
    "if(amt<=5000 and amt%100==0):\n",
    "    print(\"allow withdrawal\")\n",
    "else:\n",
    "    print(\"insufficient balance\")    "
   ]
  },
  {
   "cell_type": "code",
   "execution_count": 1,
   "id": "ef9b6984",
   "metadata": {},
   "outputs": [
    {
     "name": "stdout",
     "output_type": "stream",
     "text": [
      "Insufficient Balance\n"
     ]
    }
   ],
   "source": [
    "#another \n",
    "amount=int(input('Enter the amount:'))\n",
    "acc_balance=5000\n",
    "if(amount<=acc_balance and amount%100==0):\n",
    "    print(\"Withdrawal Succesful\")\n",
    "else:\n",
    "    print(\"Insufficient Balance\")"
   ]
  },
  {
   "cell_type": "code",
   "execution_count": 3,
   "id": "3e64b6e5",
   "metadata": {},
   "outputs": [
    {
     "name": "stdout",
     "output_type": "stream",
     "text": [
      "withdrawal successful\n"
     ]
    }
   ],
   "source": [
    "#ternary \n",
    "amt=int(input('Enter a amt'))\n",
    "res=\"withdrawal successful\" if (amt<=5000 and amt%100==0) else \"Insufficient Balance\"\n",
    "print(res)  "
   ]
  },
  {
   "cell_type": "code",
   "execution_count": null,
   "id": "ae817a4d",
   "metadata": {},
   "outputs": [],
   "source": [
    "2.#traffic signal decision\n"
   ]
  },
  {
   "cell_type": "code",
   "execution_count": 7,
   "id": "2eb14773",
   "metadata": {},
   "outputs": [
    {
     "name": "stdout",
     "output_type": "stream",
     "text": [
      "you can go\n"
     ]
    }
   ],
   "source": [
    "light=input('enter the color: ').lower()\n",
    "if(light=='red'):\n",
    "    print(\"stop immediately\")\n",
    "elif(light=='yellow'):\n",
    "    print(\"get ready to move\")\n",
    "elif(light=='green'):\n",
    "    print(\"you can go\")    "
   ]
  },
  {
   "cell_type": "code",
   "execution_count": null,
   "id": "9e0f48c3",
   "metadata": {},
   "outputs": [],
   "source": [
    "3.#movie ticket pricing"
   ]
  },
  {
   "cell_type": "code",
   "execution_count": 15,
   "id": "c4e01c0f",
   "metadata": {},
   "outputs": [
    {
     "name": "stdout",
     "output_type": "stream",
     "text": [
      "invalid age\n"
     ]
    }
   ],
   "source": [
    "age=int(input('Enter the age:'))\n",
    "if(0<age<=12):\n",
    "    print(\"150rs\")\n",
    "elif(age>=12 and age<=18):\n",
    "    print(\"200rs\")\n",
    "elif(age>18):\n",
    "    print(\"300rs\")  \n",
    "else:\n",
    "    print(\"invalid age\")          \n"
   ]
  },
  {
   "cell_type": "code",
   "execution_count": null,
   "id": "3f025ded",
   "metadata": {},
   "outputs": [],
   "source": [
    "4.#employee overtime pay"
   ]
  },
  {
   "cell_type": "code",
   "execution_count": 24,
   "id": "1540cf34",
   "metadata": {},
   "outputs": [
    {
     "name": "stdout",
     "output_type": "stream",
     "text": [
      "no overtime pay\n"
     ]
    }
   ],
   "source": [
    "emp=int(input('Enter the number:'))\n",
    "res=\"₹100 for extra hour\" if (emp>8 ) else \"no overtime pay\"\n",
    "print(res)"
   ]
  },
  {
   "cell_type": "code",
   "execution_count": null,
   "id": "312fe73b",
   "metadata": {},
   "outputs": [],
   "source": [
    "5.# restaurant discount system"
   ]
  },
  {
   "cell_type": "code",
   "execution_count": 27,
   "id": "4a2af9d8",
   "metadata": {},
   "outputs": [
    {
     "name": "stdout",
     "output_type": "stream",
     "text": [
      "6300.0\n"
     ]
    }
   ],
   "source": [
    "amt=int(input('Enter the amt:'))\n",
    "if(amt>1000):\n",
    "    dis=amt*0.1\n",
    "    amt=amt-dis\n",
    "    print(amt)\n",
    "elif(amt>500):\n",
    "    dis=amt*0.05\n",
    "    amt=amt-dis\n",
    "    print(dis)\n",
    "elif(amt<=500):\n",
    "    print(\"no discount\")        "
   ]
  },
  {
   "cell_type": "code",
   "execution_count": null,
   "id": "708d5041",
   "metadata": {},
   "outputs": [],
   "source": [
    "7.#water reminder app"
   ]
  },
  {
   "cell_type": "code",
   "execution_count": 39,
   "id": "97fbe7ed",
   "metadata": {},
   "outputs": [
    {
     "name": "stdout",
     "output_type": "stream",
     "text": [
      "you are fine\n"
     ]
    }
   ],
   "source": [
    "wra=int(input('enter num of hours:'))\n",
    "if(wra>=4):\n",
    "    print(\"you are dehydrated!Drink water now!\")\n",
    "elif(wra>=2 and wra<=3):\n",
    "    print(\"Drink a glass of water\")\n",
    "elif(wra<2):\n",
    "    print(\"you are fine\")       "
   ]
  },
  {
   "cell_type": "code",
   "execution_count": null,
   "id": "9822e7e3",
   "metadata": {},
   "outputs": [
    {
     "name": "stdout",
     "output_type": "stream",
     "text": [
      "[10, 20, 30, 40] <class 'list'>\n",
      "(10, 20, 30, 40) <class 'tuple'>\n",
      "{40, 10, 20, 30} <class 'set'>\n"
     ]
    }
   ],
   "source": [
    "1.#\n",
    "List=[10,20,30,40]\n",
    "Tuple=(10,20,30,40)\n",
    "Set={10,20,30,40}\n",
    "print(List,type(List))\n",
    "print(Tuple,type(Tuple))\n",
    "print(Set,type(Set))"
   ]
  },
  {
   "cell_type": "code",
   "execution_count": null,
   "id": "24da3c18",
   "metadata": {},
   "outputs": [],
   "source": [
    "2.# for loop syntax\n",
    "\n",
    "for element in sequence:\n",
    "    body of for loop\n"
   ]
  },
  {
   "cell_type": "code",
   "execution_count": null,
   "id": "578a1339",
   "metadata": {},
   "outputs": [
    {
     "name": "stdout",
     "output_type": "stream",
     "text": [
      "range(0, 10)\n",
      "<class 'range'>\n"
     ]
    }
   ],
   "source": [
    "3.#range(stop)\n",
    "#range(start,stop)\n",
    "#range(start,stop,stepsize)\n",
    "R1=range(10)\n",
    "print(R1)\n",
    "print(type(R1))"
   ]
  },
  {
   "cell_type": "code",
   "execution_count": null,
   "id": "0f1e6ae5",
   "metadata": {},
   "outputs": [
    {
     "name": "stdout",
     "output_type": "stream",
     "text": [
      "0\n",
      "1\n",
      "2\n",
      "3\n",
      "4\n",
      "5\n",
      "6\n",
      "7\n",
      "8\n",
      "9\n"
     ]
    }
   ],
   "source": [
    "3.#range(stop)\n",
    "for i in range(10):\n",
    "    print(i)"
   ]
  },
  {
   "cell_type": "code",
   "execution_count": 43,
   "id": "b715e3b6",
   "metadata": {},
   "outputs": [
    {
     "name": "stdout",
     "output_type": "stream",
     "text": [
      "0\n",
      "1\n",
      "2\n",
      "3\n",
      "4\n",
      "5\n",
      "6\n",
      "7\n",
      "8\n",
      "9\n",
      "10\n"
     ]
    }
   ],
   "source": [
    "for i in range(11):\n",
    "    print(i)"
   ]
  },
  {
   "cell_type": "code",
   "execution_count": null,
   "id": "1e83d750",
   "metadata": {},
   "outputs": [
    {
     "name": "stdout",
     "output_type": "stream",
     "text": [
      "10\n",
      "11\n",
      "12\n",
      "13\n",
      "14\n"
     ]
    }
   ],
   "source": [
    "3.#range(start,stop)\n",
    "for i in range(10,15):\n",
    "    print(i)\n"
   ]
  },
  {
   "cell_type": "code",
   "execution_count": 45,
   "id": "9cfe02a7",
   "metadata": {},
   "outputs": [
    {
     "name": "stdout",
     "output_type": "stream",
     "text": [
      "10\n",
      "11\n",
      "12\n",
      "13\n",
      "14\n",
      "15\n"
     ]
    }
   ],
   "source": [
    "for i in range(10,16):\n",
    "    print(i)"
   ]
  },
  {
   "cell_type": "code",
   "execution_count": 46,
   "id": "580a67fd",
   "metadata": {},
   "outputs": [
    {
     "name": "stdout",
     "output_type": "stream",
     "text": [
      "1\n",
      "2\n",
      "3\n",
      "4\n",
      "5\n",
      "6\n",
      "7\n",
      "8\n",
      "9\n",
      "10\n"
     ]
    }
   ],
   "source": [
    "for i in range(1,11):\n",
    "    print(i)"
   ]
  },
  {
   "cell_type": "code",
   "execution_count": null,
   "id": "3d412acf",
   "metadata": {},
   "outputs": [
    {
     "name": "stdout",
     "output_type": "stream",
     "text": [
      "1\n",
      "3\n",
      "5\n",
      "7\n",
      "9\n"
     ]
    }
   ],
   "source": [
    "4.#range(start,stop,stepsize)\n",
    "for i in range(1,11,2):\n",
    "    print(i)"
   ]
  },
  {
   "cell_type": "code",
   "execution_count": 48,
   "id": "376306e6",
   "metadata": {},
   "outputs": [
    {
     "name": "stdout",
     "output_type": "stream",
     "text": [
      "2\n",
      "4\n",
      "6\n",
      "8\n",
      "10\n"
     ]
    }
   ],
   "source": [
    "for i in range(2,11,2):\n",
    "    print(i)"
   ]
  },
  {
   "cell_type": "code",
   "execution_count": null,
   "id": "2927451e",
   "metadata": {},
   "outputs": [],
   "source": [
    "5.#write a py program to print the natural numbers from 1 to n where n is the user's input"
   ]
  },
  {
   "cell_type": "code",
   "execution_count": 50,
   "id": "e60c6aba",
   "metadata": {},
   "outputs": [
    {
     "name": "stdout",
     "output_type": "stream",
     "text": [
      "Natural Numbers from 1 to 20:\n",
      "1\n",
      "2\n",
      "3\n",
      "4\n",
      "5\n",
      "6\n",
      "7\n",
      "8\n",
      "9\n",
      "10\n",
      "11\n",
      "12\n",
      "13\n",
      "14\n",
      "15\n",
      "16\n",
      "17\n",
      "18\n",
      "19\n",
      "20\n"
     ]
    }
   ],
   "source": [
    "n=int(input('Enter the integer value:'))\n",
    "print(f\"Natural Numbers from 1 to {n}:\")\n",
    "for i in range(1,n+1):\n",
    "    print(i)\n",
    "\n"
   ]
  },
  {
   "cell_type": "code",
   "execution_count": null,
   "id": "091d9aae",
   "metadata": {},
   "outputs": [
    {
     "name": "stdout",
     "output_type": "stream",
     "text": [
      "Natural Numbers from 1 to 10:\n",
      "10\n",
      "9\n",
      "8\n",
      "7\n",
      "6\n",
      "5\n",
      "4\n",
      "3\n",
      "2\n",
      "1\n"
     ]
    }
   ],
   "source": [
    "6.#write a py program to print natural numbers from n to 1\n",
    "\n",
    "n=int(input('Enter the integer value:'))\n",
    "print(f\"Natural Numbers from 1 to {n}:\")\n",
    "for i in range(n,0,-1):\n",
    "    print(i)\n"
   ]
  },
  {
   "cell_type": "code",
   "execution_count": null,
   "id": "5b1f4d98",
   "metadata": {},
   "outputs": [
    {
     "name": "stdout",
     "output_type": "stream",
     "text": [
      "Natural Numbers from 7 to 1:\n",
      "7\n",
      "6\n",
      "5\n",
      "4\n",
      "3\n",
      "2\n",
      "1\n"
     ]
    }
   ],
   "source": [
    "7.#\n",
    "n=int(input('Enter the integer value:'))\n",
    "print(f\"Natural Numbers from {n} to 1:\")\n",
    "for i in range(n,0,-1):\n",
    "    print(i)\n"
   ]
  },
  {
   "cell_type": "code",
   "execution_count": null,
   "id": "4d5a01c9",
   "metadata": {},
   "outputs": [
    {
     "name": "stdout",
     "output_type": "stream",
     "text": [
      "Even Numbers from 1 to 10:\n",
      "2\n",
      "4\n",
      "6\n",
      "8\n",
      "10\n"
     ]
    }
   ],
   "source": [
    "8.#write a py program to print even numbers from 1 to n\n",
    "\n",
    "n=int(input('Enter the integer value:'))\n",
    "print(f\"Even Numbers from 1 to {n}:\")\n",
    "for i in range(2,n+1,2):\n",
    "    print(i)\n"
   ]
  },
  {
   "cell_type": "code",
   "execution_count": null,
   "id": "2cb0b444",
   "metadata": {},
   "outputs": [
    {
     "name": "stdout",
     "output_type": "stream",
     "text": [
      "Even Numbers from 23 to 1:\n",
      "22\n",
      "20\n",
      "18\n",
      "16\n",
      "14\n",
      "12\n",
      "10\n",
      "8\n",
      "6\n",
      "4\n",
      "2\n"
     ]
    }
   ],
   "source": [
    "9.#write a py program to print the even numbers from n to 1\n",
    "\n",
    "n=int(input('Enter the integer value:'))\n",
    "print(f\"Even Numbers from {n} to 1:\")\n",
    "for i in range(n,0,-1):\n",
    "    if(i%2==0):\n",
    "        print(i)\n",
    "\n"
   ]
  },
  {
   "cell_type": "code",
   "execution_count": null,
   "id": "aab4a9d7",
   "metadata": {},
   "outputs": [
    {
     "name": "stdout",
     "output_type": "stream",
     "text": [
      "Odd Numbers from 1 to 14:\n",
      "1\n",
      "3\n",
      "5\n",
      "7\n",
      "9\n",
      "11\n",
      "13\n"
     ]
    }
   ],
   "source": [
    "10.#write py program to print odd numbers from 1 to n\n",
    "\n",
    "n=int(input('Enter the integer value:'))\n",
    "print(f\"Odd Numbers from 1 to {n}:\")\n",
    "for i in range(1,n+1,2):\n",
    "    print(i)"
   ]
  },
  {
   "cell_type": "code",
   "execution_count": null,
   "id": "7d38c139",
   "metadata": {},
   "outputs": [
    {
     "name": "stdout",
     "output_type": "stream",
     "text": [
      "Odd Numbers from 15 to 1:\n",
      "15\n",
      "13\n",
      "11\n",
      "9\n",
      "7\n",
      "5\n",
      "3\n",
      "1\n"
     ]
    }
   ],
   "source": [
    "11.#write a py program to print odd numbers from n to 1\n",
    "\n",
    "n=int(input('Enter the integer value:'))\n",
    "print(f\"Odd Numbers from {n} to 1:\")\n",
    "for i in range(n,0,-1):\n",
    "    if(i%2!=0):\n",
    "        print(i)"
   ]
  },
  {
   "cell_type": "code",
   "execution_count": null,
   "id": "e9907964",
   "metadata": {},
   "outputs": [
    {
     "name": "stdout",
     "output_type": "stream",
     "text": [
      "Multiplication table of 8:\n",
      "8 x 1 = 8\n",
      "8 x 2 = 16\n",
      "8 x 3 = 24\n",
      "8 x 4 = 32\n",
      "8 x 5 = 40\n",
      "8 x 6 = 48\n",
      "8 x 7 = 56\n",
      "8 x 8 = 64\n",
      "8 x 9 = 72\n",
      "8 x 10 = 80\n"
     ]
    }
   ],
   "source": [
    "12.#write a py program to print the multiplication table of n\n",
    "\n",
    "n=int(input('Enter the integer value:'))\n",
    "print(f\"Multiplication table of {n}:\")\n",
    "for i in range(1,11):\n",
    "    print(f\"{n} x {i} = {n*i}\")"
   ]
  },
  {
   "cell_type": "code",
   "execution_count": 74,
   "id": "0b867d52",
   "metadata": {},
   "outputs": [
    {
     "name": "stdout",
     "output_type": "stream",
     "text": [
      "Reversed Multiplication table of 3:\n",
      "3 x 10 = 30\n",
      "3 x 9 = 27\n",
      "3 x 8 = 24\n",
      "3 x 7 = 21\n",
      "3 x 6 = 18\n",
      "3 x 5 = 15\n",
      "3 x 4 = 12\n",
      "3 x 3 = 9\n",
      "3 x 2 = 6\n",
      "3 x 1 = 3\n"
     ]
    }
   ],
   "source": [
    "#write a py program to print the reversed multiplication table of n  \n",
    "\n",
    "n=int(input('Enter the integer value:'))\n",
    "print(f\"Reversed Multiplication table of {n}:\")\n",
    "for i in range(10,0,-1):\n",
    "    print(f\"{n} x {i} = {n*i}\")"
   ]
  },
  {
   "cell_type": "code",
   "execution_count": 79,
   "id": "6ca0aeff",
   "metadata": {},
   "outputs": [
    {
     "name": "stdout",
     "output_type": "stream",
     "text": [
      "Multiplication table from 1 to 5:\n",
      "1 x 1 = 1\n",
      "1 x 2 = 2\n",
      "1 x 3 = 3\n",
      "1 x 4 = 4\n",
      "1 x 5 = 5\n",
      "1 x 6 = 6\n",
      "1 x 7 = 7\n",
      "1 x 8 = 8\n",
      "1 x 9 = 9\n",
      "1 x 10 = 10\n",
      "2 x 1 = 2\n",
      "2 x 2 = 4\n",
      "2 x 3 = 6\n",
      "2 x 4 = 8\n",
      "2 x 5 = 10\n",
      "2 x 6 = 12\n",
      "2 x 7 = 14\n",
      "2 x 8 = 16\n",
      "2 x 9 = 18\n",
      "2 x 10 = 20\n",
      "3 x 1 = 3\n",
      "3 x 2 = 6\n",
      "3 x 3 = 9\n",
      "3 x 4 = 12\n",
      "3 x 5 = 15\n",
      "3 x 6 = 18\n",
      "3 x 7 = 21\n",
      "3 x 8 = 24\n",
      "3 x 9 = 27\n",
      "3 x 10 = 30\n",
      "4 x 1 = 4\n",
      "4 x 2 = 8\n",
      "4 x 3 = 12\n",
      "4 x 4 = 16\n",
      "4 x 5 = 20\n",
      "4 x 6 = 24\n",
      "4 x 7 = 28\n",
      "4 x 8 = 32\n",
      "4 x 9 = 36\n",
      "4 x 10 = 40\n",
      "5 x 1 = 5\n",
      "5 x 2 = 10\n",
      "5 x 3 = 15\n",
      "5 x 4 = 20\n",
      "5 x 5 = 25\n",
      "5 x 6 = 30\n",
      "5 x 7 = 35\n",
      "5 x 8 = 40\n",
      "5 x 9 = 45\n",
      "5 x 10 = 50\n"
     ]
    }
   ],
   "source": [
    "#write a py program to print the multiplication tables from 1 to n where as n is an integer input from the user \n",
    "\n",
    "n=int(input('Enter the integer value:'))\n",
    "print(f\"Multiplication table from 1 to {n}:\")\n",
    "for i in range(1,n+1):\n",
    "    for j in range(1,11):\n",
    "        print(f\"{i} x {j} = {i*j}\")"
   ]
  },
  {
   "cell_type": "code",
   "execution_count": 85,
   "id": "10962bba",
   "metadata": {},
   "outputs": [
    {
     "name": "stdout",
     "output_type": "stream",
     "text": [
      "490\n"
     ]
    }
   ],
   "source": [
    "#Electricity Bill Calculator\n",
    "\n",
    "bill=int(input('Enter the billamt:'))\n",
    "if(bill==100):\n",
    "    bill=bill*5\n",
    "    print(bill)\n",
    "elif(100>bill<200):\n",
    "    bill=bill*7\n",
    "    print(bill)\n",
    "elif(bill>200):\n",
    "    bill=bill*10\n",
    "    print(bill)\n",
    "\n"
   ]
  },
  {
   "cell_type": "code",
   "execution_count": 89,
   "id": "4dc92dee",
   "metadata": {},
   "outputs": [
    {
     "name": "stdout",
     "output_type": "stream",
     "text": [
      "Delivery charge ₹50 added\n"
     ]
    }
   ],
   "source": [
    "# Online Shopping free delivery\n",
    "\n",
    "fd=int(input('Enter the cart value:'))\n",
    "if(fd>=500):\n",
    "    print(\"Free delivery applied\")\n",
    "else:\n",
    "    print(\"Delivery charge ₹50 added\")    "
   ]
  },
  {
   "cell_type": "code",
   "execution_count": 91,
   "id": "5baa564f",
   "metadata": {},
   "outputs": [
    {
     "name": "stdout",
     "output_type": "stream",
     "text": [
      "Free delivery applied\n"
     ]
    }
   ],
   "source": [
    "#ternary \n",
    "\n",
    "fd=int(input('Enter the cart value:'))\n",
    "res=\"Free delivery applied\" if(fd>=500) else \"Delivery charge ₹50 added\"\n",
    "print(res)\n",
    "    "
   ]
  },
  {
   "cell_type": "code",
   "execution_count": 99,
   "id": "dce51ab3",
   "metadata": {},
   "outputs": [
    {
     "name": "stdout",
     "output_type": "stream",
     "text": [
      "obesity\n"
     ]
    }
   ],
   "source": [
    "#BMI fitness checker (body mass index)\n",
    "\n",
    "bmi=float(input('Enter the weight:'))\n",
    "if(bmi<18.5):\n",
    "    print(\"Underweight\")\n",
    "elif(18.5<=bmi<25):\n",
    "    print(\"Normal Weight\")\n",
    "elif(25<=bmi<30):\n",
    "    print(\"overweight\")\n",
    "elif(bmi>=30):\n",
    "    print(\"obesity\")           "
   ]
  },
  {
   "cell_type": "code",
   "execution_count": 101,
   "id": "3ae6914a",
   "metadata": {},
   "outputs": [
    {
     "name": "stdout",
     "output_type": "stream",
     "text": [
      "Not Eligible\n"
     ]
    }
   ],
   "source": [
    "#Loan Eligibility\n",
    "\n",
    "slry=int(input('Enter the salary:'))\n",
    "cs=int(input(\"Enter credit score:\"))\n",
    "if(slry>=3000 and cs>=700):\n",
    "    print(\"Eligible\")\n",
    "else:\n",
    "    print(\"Not Eligible\")    \n",
    "\n"
   ]
  },
  {
   "cell_type": "code",
   "execution_count": 104,
   "id": "e04f4e40",
   "metadata": {},
   "outputs": [
    {
     "name": "stdout",
     "output_type": "stream",
     "text": [
      "Hot Weather\n"
     ]
    }
   ],
   "source": [
    "#Temperature Alert System\n",
    "\n",
    "tmp=int(input('Enter the Temperature:'))\n",
    "if(tmp<0):\n",
    "    print(\"Freezing Weather\")\n",
    "elif(0>tmp<20):\n",
    "    print(\"Cold Weather\")\n",
    "elif(21<tmp<35):\n",
    "    print(\"Normal Weather\")\n",
    "elif(tmp>=35):\n",
    "    print(\"Hot Weather\")            "
   ]
  },
  {
   "cell_type": "code",
   "execution_count": 108,
   "id": "88f37c7c",
   "metadata": {},
   "outputs": [
    {
     "name": "stdout",
     "output_type": "stream",
     "text": [
      "Low Data Warning\n"
     ]
    }
   ],
   "source": [
    "#Mobile Data Balance Checker\n",
    "\n",
    "db=int(input(\"Enter the balance:\"))\n",
    "if(db==0):\n",
    "    print(\"Recharge Required\") \n",
    "elif(db<=100):\n",
    "    print(\"Low Data Warning\")\n",
    "else:\n",
    "    print(\"Sufficient Data Available\")        "
   ]
  },
  {
   "cell_type": "code",
   "execution_count": 117,
   "id": "f3fa1cc8",
   "metadata": {},
   "outputs": [
    {
     "name": "stdout",
     "output_type": "stream",
     "text": [
      "Half Ticket\n"
     ]
    }
   ],
   "source": [
    "#Train Ticket Concession\n",
    "\n",
    "ff=int(input('Enter the Age:'))\n",
    "if(ff<5):\n",
    "    print(\"Free\")\n",
    "elif(5<=ff<=12):\n",
    "    print(\"Half Ticket\")\n",
    "elif(13<=ff<=59):\n",
    "    print(\"Full Ticket\")\n",
    "elif(ff>=60):\n",
    "    print(\"30% Senior Citizen Discount\")  \n"
   ]
  }
 ],
 "metadata": {
  "kernelspec": {
   "display_name": "Python 3",
   "language": "python",
   "name": "python3"
  },
  "language_info": {
   "codemirror_mode": {
    "name": "ipython",
    "version": 3
   },
   "file_extension": ".py",
   "mimetype": "text/x-python",
   "name": "python",
   "nbconvert_exporter": "python",
   "pygments_lexer": "ipython3",
   "version": "3.13.3"
  }
 },
 "nbformat": 4,
 "nbformat_minor": 5
}
