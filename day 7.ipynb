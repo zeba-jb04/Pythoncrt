{
 "cells": [
  {
   "cell_type": "code",
   "execution_count": null,
   "id": "89b9f40b",
   "metadata": {},
   "outputs": [
    {
     "name": "stdout",
     "output_type": "stream",
     "text": [
      "[1, 2, 3, 4, 5, 6, 7, 8, 9, 10]\n"
     ]
    }
   ],
   "source": [
    "#1\n",
    "num=[]\n",
    "for i in range(1,11):\n",
    "    num.append(i)\n",
    "print(num)\n",
    "  "
   ]
  },
  {
   "cell_type": "code",
   "execution_count": null,
   "id": "9cdbe4a4",
   "metadata": {},
   "outputs": [
    {
     "name": "stdout",
     "output_type": "stream",
     "text": [
      "[1, 2, 3, 4, 5, 6, 7, 8, 9, 10]\n"
     ]
    }
   ],
   "source": [
    "#list comprehension \n",
    "num=[val for val in range(1,11)]\n",
    "print(num)  "
   ]
  },
  {
   "cell_type": "markdown",
   "id": "1a0c39d3",
   "metadata": {},
   "source": [
    "write the python program to print a list of even numbers from 1 to n using list comprehension"
   ]
  },
  {
   "cell_type": "code",
   "execution_count": 2,
   "id": "5f24baf6",
   "metadata": {},
   "outputs": [
    {
     "name": "stdout",
     "output_type": "stream",
     "text": [
      "[2, 4, 6]\n"
     ]
    }
   ],
   "source": [
    "n=int(input(\"enter the value :\"))\n",
    "num=[val for val in range(2,n,2)]\n",
    "print(num)\n"
   ]
  },
  {
   "cell_type": "code",
   "execution_count": 4,
   "id": "6951dcf6",
   "metadata": {},
   "outputs": [
    {
     "name": "stdout",
     "output_type": "stream",
     "text": [
      "[2, 4, 6, 8, 10, 12, 14, 16, 18, 20, 22, 24, 26, 28, 30, 32, 34]\n"
     ]
    }
   ],
   "source": [
    "n=int(input(\"enter the value :\"))\n",
    "num=[val for val in range(1,n) if val%2==0]\n",
    "print(num)\n"
   ]
  },
  {
   "cell_type": "markdown",
   "id": "4987a919",
   "metadata": {},
   "source": [
    "#Filter\n",
    "filter(function_name,iterable)\n",
    "\n",
    "#Reduce\n",
    "syntax:\n",
    "from functools import reduce\n",
    "reduce(function_name,sequence)\n",
    "\n"
   ]
  },
  {
   "cell_type": "markdown",
   "id": "1514c58e",
   "metadata": {},
   "source": [
    "Anonymous Function or Lambda\n",
    "A function without a name is called Anonymous Function.\n",
    "    It is also called as Lambda Function.\n",
    "    Anonymous Function we donot use def to define func but we use lambda keyword for defining the func.\n",
    "\n",
    "\n"
   ]
  },
  {
   "cell_type": "markdown",
   "id": "1eaaf77a",
   "metadata": {},
   "source": [
    "4.write a python func to print the square values of n "
   ]
  },
  {
   "cell_type": "code",
   "execution_count": 6,
   "id": "c3474be0",
   "metadata": {},
   "outputs": [
    {
     "name": "stdout",
     "output_type": "stream",
     "text": [
      "100\n",
      "100\n"
     ]
    }
   ],
   "source": [
    "def square(n):\n",
    "    print(n*n)\n",
    "square(10)\n",
    "\n",
    "#lambda func\n",
    "x=lambda n:print(n*n)\n",
    "x(10)    "
   ]
  },
  {
   "cell_type": "markdown",
   "id": "33dfaf40",
   "metadata": {},
   "source": [
    "5.write a lambda func to add 10 to a num"
   ]
  },
  {
   "cell_type": "code",
   "execution_count": 10,
   "id": "6eed2e85",
   "metadata": {},
   "outputs": [
    {
     "name": "stdout",
     "output_type": "stream",
     "text": [
      "17\n"
     ]
    }
   ],
   "source": [
    "add=lambda n:n+10\n",
    "print(add(7))"
   ]
  },
  {
   "cell_type": "markdown",
   "id": "a42f91cd",
   "metadata": {},
   "source": [
    "6.write a python program to check whether the user entered integer is even using lambda func"
   ]
  },
  {
   "cell_type": "code",
   "execution_count": 11,
   "id": "e64b8925",
   "metadata": {},
   "outputs": [
    {
     "name": "stdout",
     "output_type": "stream",
     "text": [
      "True\n",
      "False\n"
     ]
    }
   ],
   "source": [
    "even=lambda n:n%2==0\n",
    "print(even(24))\n",
    "print(even(27))"
   ]
  },
  {
   "cell_type": "markdown",
   "id": "87ecb65d",
   "metadata": {},
   "source": [
    "7.write a pyhton program to square numbers in the list using lambda func"
   ]
  },
  {
   "cell_type": "code",
   "execution_count": 12,
   "id": "3bab035c",
   "metadata": {},
   "outputs": [
    {
     "name": "stdout",
     "output_type": "stream",
     "text": [
      "[1, 4, 9, 16, 25, 36, 49, 64, 81, 100]\n"
     ]
    }
   ],
   "source": [
    "num=[1,2,3,4,5,6,7,8,9,10]\n",
    "square=lambda :[val*val for val in num]\n",
    "print(square())"
   ]
  },
  {
   "cell_type": "markdown",
   "id": "eacd44a5",
   "metadata": {},
   "source": [
    "8.Doubling of numbers in list\n"
   ]
  },
  {
   "cell_type": "code",
   "execution_count": 14,
   "id": "8051508f",
   "metadata": {},
   "outputs": [
    {
     "name": "stdout",
     "output_type": "stream",
     "text": [
      "[2, 4, 6, 8, 10, 12, 14, 16, 18, 20]\n"
     ]
    }
   ],
   "source": [
    "\n",
    "num=[1,2,3,4,5,6,7,8,9,10]\n",
    "res=[]\n",
    "for i in num:\n",
    "    val=i+i\n",
    "    res.append(val)\n",
    "print(res)    "
   ]
  },
  {
   "cell_type": "code",
   "execution_count": 16,
   "id": "dd9f33dc",
   "metadata": {},
   "outputs": [
    {
     "name": "stdout",
     "output_type": "stream",
     "text": [
      "[2, 4, 6, 8, 10, 12, 14, 16, 18, 20]\n"
     ]
    }
   ],
   "source": [
    "num=[1,2,3,4,5,6,7,8,9,10]\n",
    "res=[i+i for i in num]\n",
    "print(res)"
   ]
  },
  {
   "cell_type": "code",
   "execution_count": 17,
   "id": "2fa0b874",
   "metadata": {},
   "outputs": [
    {
     "name": "stdout",
     "output_type": "stream",
     "text": [
      "[2, 4, 6, 8, 10, 12, 14, 16, 18, 20]\n"
     ]
    }
   ],
   "source": [
    "num=[1,2,3,4,5,6,7,8,9,10]\n",
    "def double(n):\n",
    "    return n+n\n",
    "res=list(map(double,num))\n",
    "print(res)"
   ]
  },
  {
   "cell_type": "markdown",
   "id": "299bd869",
   "metadata": {},
   "source": [
    "9.write a python program to read the list of words as input from the user and written the length of each word for the list"
   ]
  },
  {
   "cell_type": "code",
   "execution_count": 20,
   "id": "58d43cdf",
   "metadata": {},
   "outputs": [
    {
     "name": "stdout",
     "output_type": "stream",
     "text": [
      "User Entered List is :  ['c', 'c++', 'java', 'sql', 'python']\n",
      "Length of the Words in the list : [1, 3, 4, 3, 6]\n"
     ]
    }
   ],
   "source": [
    "\n",
    "size=int(input(\"Enter the size of list : \"))\n",
    "WordList=[]\n",
    "for i in range(size):\n",
    "    val=input(\"Enter the word : \")\n",
    "    WordList.append(val)\n",
    "print(\"User Entered List is : \",WordList)\n",
    "Len=list(map(lambda w:len(w),WordList))\n",
    "print(\"Length of the Words in the list :\",Len)    "
   ]
  },
  {
   "cell_type": "markdown",
   "id": "757ecd33",
   "metadata": {},
   "source": [
    "Map func is to avoid looping statements or iterations"
   ]
  },
  {
   "cell_type": "markdown",
   "id": "0c91492e",
   "metadata": {},
   "source": [
    "10.write a py program to read three integer values as input in same line and print the summation of it."
   ]
  },
  {
   "cell_type": "code",
   "execution_count": 22,
   "id": "bc4f69cf",
   "metadata": {},
   "outputs": [
    {
     "name": "stdout",
     "output_type": "stream",
     "text": [
      "[1, 2, 3]\n",
      "6\n"
     ]
    }
   ],
   "source": [
    "num=list(map(int,input('Enter the numbers :').split()))\n",
    "print(num)\n",
    "print(sum(num))\n"
   ]
  },
  {
   "cell_type": "markdown",
   "id": "8dabfdd3",
   "metadata": {},
   "source": [
    "11.Write a pyhton program to read a list of elements as input from the user & print the square values of list elements without loops.\n",
    "\n"
   ]
  },
  {
   "cell_type": "code",
   "execution_count": 24,
   "id": "5f8edacb",
   "metadata": {},
   "outputs": [
    {
     "name": "stdout",
     "output_type": "stream",
     "text": [
      "The User Entered List:  [2, 4, 6, 7, 8, 10]\n",
      "List of Square of each element: [4, 16, 36, 49, 64, 100]\n"
     ]
    }
   ],
   "source": [
    "li = list(map(int,input(\"Enter the list of elements: \").split()))\n",
    "print(\"The User Entered List: \", li)\n",
    "print(\"List of Square of each element:\",list(map(lambda x: x*x,li)))"
   ]
  },
  {
   "cell_type": "code",
   "execution_count": 25,
   "id": "473c90ff",
   "metadata": {},
   "outputs": [
    {
     "name": "stdout",
     "output_type": "stream",
     "text": [
      "[1, 4, 9, 16, 25, 36, 49]\n"
     ]
    }
   ],
   "source": [
    "num=list(map(int,input(\"Enter the numbers : \").split()))\n",
    "square=list(map(lambda i:i*i,num))\n",
    "print(square)"
   ]
  },
  {
   "cell_type": "code",
   "execution_count": 35,
   "id": "d47a0493",
   "metadata": {},
   "outputs": [
    {
     "name": "stdout",
     "output_type": "stream",
     "text": [
      "[1, 2, 3, 4]\n",
      "[1, 4, 9, 16]\n"
     ]
    }
   ],
   "source": [
    "size = int(input(\"Enter the size of list :\"))\n",
    "List = []\n",
    "Num = []\n",
    "for i in range(size):\n",
    "    val = int(input())\n",
    "    List.append(val)\n",
    "print(List)\n",
    "for j in List:\n",
    "    j = j*j\n",
    "    Num.append(j)\n",
    "print(Num)"
   ]
  },
  {
   "cell_type": "markdown",
   "id": "02a30d63",
   "metadata": {},
   "source": [
    "12.write a python program to read a list of numbers and print the list of even numbers and odd numbers without using loops and conditional statements"
   ]
  },
  {
   "cell_type": "code",
   "execution_count": 36,
   "id": "b9889444",
   "metadata": {},
   "outputs": [
    {
     "name": "stdout",
     "output_type": "stream",
     "text": [
      "User Entered List : [2, 3, 4, 5, 6, 7, 8]\n",
      "Even List : [2, 4, 6, 8] \n",
      "Odd List : [3, 5, 7]\n"
     ]
    }
   ],
   "source": [
    "num=list(map(int,input('Enter the numbers : ').split()))\n",
    "even=list(filter(lambda i:i%2==0,num ))\n",
    "odd=list(filter(lambda i:i%2!=0,num ))\n",
    "print(f\"User Entered List : {num}\")\n",
    "print(f\"Even List : {even} \")\n",
    "print(f\"Odd List : {odd}\")"
   ]
  },
  {
   "cell_type": "markdown",
   "id": "eabb25a4",
   "metadata": {},
   "source": [
    "13.Sales Data Analysis"
   ]
  },
  {
   "cell_type": "code",
   "execution_count": 44,
   "id": "08baad96",
   "metadata": {},
   "outputs": [
    {
     "name": "stdout",
     "output_type": "stream",
     "text": [
      "700\n",
      "2800\n"
     ]
    }
   ],
   "source": [
    "Sales=list(map(int,input('Enter the sales for a week:').split(\",\")))\n",
    "print(max(Sales))\n",
    "print(sum(Sales))"
   ]
  },
  {
   "cell_type": "markdown",
   "id": "8b0330f3",
   "metadata": {},
   "source": [
    "14.Marks Average"
   ]
  },
  {
   "cell_type": "code",
   "execution_count": 48,
   "id": "38f85937",
   "metadata": {},
   "outputs": [
    {
     "name": "stdout",
     "output_type": "stream",
     "text": [
      "Average : 34.0\n",
      "Failed\n"
     ]
    }
   ],
   "source": [
    "Marks=tuple(map(int,input('Enter 3 Subjects marks : ').split()))\n",
    "avg=sum(Marks)/3\n",
    "res=list(map(lambda i:i>=35,Marks))\n",
    "res=\"Failed\" if(False in res) else \"Passed\"\n",
    "print(f\"Average : {avg}\")\n",
    "print(res)"
   ]
  },
  {
   "cell_type": "markdown",
   "id": "bf1a3631",
   "metadata": {},
   "source": [
    "15.Movie ticket booking"
   ]
  },
  {
   "cell_type": "code",
   "execution_count": 49,
   "id": "6e801310",
   "metadata": {},
   "outputs": [
    {
     "name": "stdout",
     "output_type": "stream",
     "text": [
      "250\n"
     ]
    }
   ],
   "source": [
    "age = list(map(int,input(\"Enter the age of people: \").split()))\n",
    "res = []\n",
    "for i in age:\n",
    "    if i<=12:\n",
    "        res.append(150)\n",
    "    elif 13<=i<=59:\n",
    "        res.append(250)\n",
    "    elif i>=60:\n",
    "        res.append(200)\n",
    "print(sum(res))"
   ]
  }
 ],
 "metadata": {
  "kernelspec": {
   "display_name": "Python 3",
   "language": "python",
   "name": "python3"
  },
  "language_info": {
   "codemirror_mode": {
    "name": "ipython",
    "version": 3
   },
   "file_extension": ".py",
   "mimetype": "text/x-python",
   "name": "python",
   "nbconvert_exporter": "python",
   "pygments_lexer": "ipython3",
   "version": "3.13.3"
  }
 },
 "nbformat": 4,
 "nbformat_minor": 5
}
