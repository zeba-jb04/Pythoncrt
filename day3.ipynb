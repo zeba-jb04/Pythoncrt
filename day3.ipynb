{
 "cells": [
  {
   "cell_type": "markdown",
   "id": "2e3f1959",
   "metadata": {},
   "source": [
    "Day 3 - 11/09/2025     "
   ]
  },
  {
   "cell_type": "markdown",
   "id": "944d8385",
   "metadata": {},
   "source": [
    "Write a python program to print the sum of natural numbers from 1 to n"
   ]
  },
  {
   "cell_type": "code",
   "execution_count": 3,
   "id": "0a65b32d",
   "metadata": {},
   "outputs": [
    {
     "name": "stdout",
     "output_type": "stream",
     "text": [
      "Summation is 1275\n"
     ]
    }
   ],
   "source": [
    "n = int(input(\"Enter the n value : \"))\n",
    "sum = 0\n",
    "for i in range(1, n+1):\n",
    "    sum = sum + i\n",
    "print(f\"Summation is {sum}\")"
   ]
  },
  {
   "cell_type": "markdown",
   "id": "fb571269",
   "metadata": {},
   "source": [
    "write a python program to find factorial of n"
   ]
  },
  {
   "cell_type": "code",
   "execution_count": 5,
   "id": "63920db6",
   "metadata": {},
   "outputs": [
    {
     "name": "stdout",
     "output_type": "stream",
     "text": [
      "Factorial of 10 is 3628800\n"
     ]
    }
   ],
   "source": [
    "n = int(input(\"Enter the n value : \"))\n",
    "fact = 1\n",
    "for i in range(1, n+1):\n",
    "    fact = fact * i\n",
    "print(f\"Factorial of {n} is {fact}\")"
   ]
  },
  {
   "cell_type": "markdown",
   "id": "59185779",
   "metadata": {},
   "source": [
    "write a python program and print the count of digits present in the user entered number"
   ]
  },
  {
   "cell_type": "code",
   "execution_count": 7,
   "id": "c1bfd62e",
   "metadata": {},
   "outputs": [
    {
     "name": "stdout",
     "output_type": "stream",
     "text": [
      "Digit count is 10\n"
     ]
    }
   ],
   "source": [
    "n = int(input('Enter the digit value : '))\n",
    "digit_count = 0\n",
    "while(n!=0):\n",
    "    n = n//10\n",
    "    digit_count += 1\n",
    "print(f\"Digit count is {digit_count}\")"
   ]
  },
  {
   "cell_type": "markdown",
   "id": "08e5409a",
   "metadata": {},
   "source": [
    "write a python program to print the count of even digits and odd digits present in the user entered number"
   ]
  },
  {
   "cell_type": "code",
   "execution_count": 8,
   "id": "68429771",
   "metadata": {},
   "outputs": [
    {
     "name": "stdout",
     "output_type": "stream",
     "text": [
      "Even digits = 0\n",
      "Odd digits = 2\n"
     ]
    }
   ],
   "source": [
    "n = int(input(\"Enter the number\"))\n",
    "even, odd =0,0\n",
    "while(n!=0):\n",
    "    rem = n%10\n",
    "    if rem % 2 == 0:\n",
    "        even += 1\n",
    "    else :\n",
    "        odd += 1\n",
    "    n = n//10\n",
    "print(f\"Even digits = {even}\")\n",
    "print(f\"Odd digits = {odd}\")"
   ]
  },
  {
   "cell_type": "markdown",
   "id": "e50d975e",
   "metadata": {},
   "source": [
    "write a python program to read an integer value as input from the user and print reverse of it"
   ]
  },
  {
   "cell_type": "code",
   "execution_count": 15,
   "id": "3bdd74a4",
   "metadata": {},
   "outputs": [
    {
     "name": "stdout",
     "output_type": "stream",
     "text": [
      "User enter number 9876\n",
      "Reversed Number is 6789\n"
     ]
    }
   ],
   "source": [
    "n = int(input(\"Enter the digit\"))\n",
    "rem,rev = 0, 0\n",
    "print(f\"User enter number {n}\")\n",
    "while(n!=0):\n",
    "    rem = n % 10\n",
    "    rev = rev * 10 + rem\n",
    "    n=n//10\n",
    "print(f\"Reversed Number is {rev}\")"
   ]
  },
  {
   "cell_type": "markdown",
   "id": "b11b1d66",
   "metadata": {},
   "source": [
    "write a python program to check the user entered integer is a palindrome number or not"
   ]
  },
  {
   "cell_type": "code",
   "execution_count": 19,
   "id": "149cbbde",
   "metadata": {},
   "outputs": [
    {
     "name": "stdout",
     "output_type": "stream",
     "text": [
      "User defined number 1234567\n",
      "Reverse = 7654321\n",
      "Not a palindrome\n"
     ]
    }
   ],
   "source": [
    "n = int(input(\"Enter the number\"))\n",
    "pn, rem, rev = 0,0,0\n",
    "pn = n\n",
    "print(f\"User defined number {n}\")\n",
    "while(pn!=0):\n",
    "    rem = pn % 10\n",
    "    rev = rev * 10 + rem\n",
    "    pn = pn // 10\n",
    "print(f\"Reverse = {rev}\")\n",
    "if(n==rev):\n",
    "    print(\"Palindrome\")\n",
    "else:\n",
    "    print(\"Not a palindrome\")"
   ]
  },
  {
   "cell_type": "code",
   "execution_count": null,
   "id": "3f5ae5d6",
   "metadata": {},
   "outputs": [
    {
     "name": "stdout",
     "output_type": "stream",
     "text": [
      "[10, 20, 30, 40, 50] <class 'list'>\n",
      "accessing the list elements using +ve indexing :\n",
      "10 20 30 40 50\n",
      "accessing the list elements using +ve indexing :\n",
      "10 20 30 40 50\n"
     ]
    }
   ],
   "source": [
    "#      -5 -4 -3 -2 -1\n",
    "num = [10,20,30,40,50]\n",
    "#       0  1  2  3  4\n",
    "print(num, type(num))\n",
    "print(\"accessing the list elements using +ve indexing :\")\n",
    "print(num[0],num[1],num[2],num[3],num[4])\n",
    "print(\"accessing the list elements using +ve indexing :\")\n",
    "print(num[-5],num[-4],num[-3],num[-2],num[-1])"
   ]
  },
  {
   "cell_type": "markdown",
   "id": "8d50846e",
   "metadata": {},
   "source": [
    "-----------"
   ]
  },
  {
   "cell_type": "markdown",
   "id": "bfe5b4b9",
   "metadata": {},
   "source": [
    "List Slicing"
   ]
  },
  {
   "cell_type": "code",
   "execution_count": 24,
   "id": "b6115002",
   "metadata": {},
   "outputs": [
    {
     "name": "stdout",
     "output_type": "stream",
     "text": [
      "['Python', 'Java', 'Ruby', 'Golang']\n",
      "['Golang', 'Ruby', 'Java', 'Python']\n",
      "['HTML', 'CSS', 'JS', 'SQL']\n",
      "['C++', 'C', 'SQL', 'JS', 'CSS', 'HTML', 'Golang', 'Ruby', 'Java', 'Python']\n"
     ]
    }
   ],
   "source": [
    "'''\n",
    "[stop]\n",
    "[start:stop]\n",
    "[start:stop:stepsize]\n",
    "'''\n",
    "lang = ['Python','Java','Ruby','Golang','HTML','CSS','JS','SQL','C','C++']\n",
    "\n",
    "print(lang[:4])\n",
    "print(lang[3::-1])\n",
    "print(lang[4:8])\n",
    "print(lang[::-1])"
   ]
  },
  {
   "cell_type": "markdown",
   "id": "2926031e",
   "metadata": {},
   "source": [
    "acessing list using for and while loop"
   ]
  },
  {
   "cell_type": "code",
   "execution_count": 35,
   "id": "daef5e50",
   "metadata": {},
   "outputs": [
    {
     "name": "stdout",
     "output_type": "stream",
     "text": [
      "Red\n",
      "Green\n",
      "Yellow\n",
      "Blue\n",
      "Orange\n",
      "Pink\n",
      "White\n",
      "Purple\n",
      "\n",
      "Red\n",
      "Green\n",
      "Yellow\n",
      "Blue\n",
      "Orange\n",
      "Pink\n",
      "White\n",
      "Purple\n"
     ]
    }
   ],
   "source": [
    "lis = ['Red','Green','Yellow','Blue','Orange','Pink','White','Purple']\n",
    "for i in lis:\n",
    "    print(i)\n",
    "    # print(i, end =\" \") # for output in same line\n",
    "n = 0\n",
    "print()\n",
    "while(n<len(lis)):\n",
    "    print(lis[n])\n",
    "    n += 1"
   ]
  },
  {
   "cell_type": "markdown",
   "id": "82c98a38",
   "metadata": {},
   "source": [
    "Deleting operation in a list"
   ]
  },
  {
   "cell_type": "code",
   "execution_count": 43,
   "id": "4275e878",
   "metadata": {},
   "outputs": [
    {
     "name": "stdout",
     "output_type": "stream",
     "text": [
      "['CSE', 'ECE', 'EEE', 'CE', 'MECH', 'CSD', 'CSC', 'CAI']\n",
      "after deleting: CSC\n",
      "['CSE', 'ECE', 'EEE', 'CE', 'MECH', 'CSD', 'CAI']\n"
     ]
    }
   ],
   "source": [
    "br =['CSE','ECE','EEE','CE','MECH','CSD','CSC','CAI']\n",
    "print(br)\n",
    "print(f\"after deleting: {br[6]}\")\n",
    "del br[6]\n",
    "print(br)\n",
    "del br #list will be deleted"
   ]
  },
  {
   "cell_type": "markdown",
   "id": "6ad02341",
   "metadata": {},
   "source": [
    "-------------------------------------------------------------------"
   ]
  },
  {
   "cell_type": "markdown",
   "id": "c0e38fc5",
   "metadata": {},
   "source": [
    "Built in Functions"
   ]
  },
  {
   "cell_type": "code",
   "execution_count": 50,
   "id": "cec6a744",
   "metadata": {},
   "outputs": [
    {
     "name": "stdout",
     "output_type": "stream",
     "text": [
      "Original list: [50, 40, 30, 20, 10]\n",
      "length of  list: 5\n",
      "max of list: 50\n",
      "min of list: 10\n",
      "Sorted List : [10, 20, 30, 40, 50]\n",
      "True\n",
      "True\n"
     ]
    }
   ],
   "source": [
    "import math\n",
    "li = [50,40,30,20,10]\n",
    "print(f\"Original list: {li}\")\n",
    "print(f\"length of  list: {len(li)}\")\n",
    "print(f\"max of list: {max(li)}\")\n",
    "print(f\"min of list: {min(li)}\")\n",
    "\n",
    "print(f\"Sorted List : {sorted(li)}\")\n",
    "print(any(li))\n",
    "print(all(li))"
   ]
  },
  {
   "cell_type": "markdown",
   "id": "2edd7910",
   "metadata": {},
   "source": [
    "------------------------------------------------------"
   ]
  },
  {
   "cell_type": "markdown",
   "id": "a50dd3b6",
   "metadata": {},
   "source": [
    "Using Built in Methods                                                                             "
   ]
  },
  {
   "cell_type": "markdown",
   "id": "12d03d96",
   "metadata": {},
   "source": [
    "Append()"
   ]
  },
  {
   "cell_type": "code",
   "execution_count": 51,
   "id": "b80de66c",
   "metadata": {},
   "outputs": [
    {
     "name": "stdout",
     "output_type": "stream",
     "text": [
      "[10, 20, 30]\n",
      "[10, 20, 30, 50]\n",
      "[10, 20, 30, 50, 70]\n"
     ]
    }
   ],
   "source": [
    "li=[10,20,30]\n",
    "print(li)\n",
    "li.append(50)\n",
    "print(li)\n",
    "li.append(70)\n",
    "print(li)"
   ]
  },
  {
   "cell_type": "markdown",
   "id": "21e94094",
   "metadata": {},
   "source": [
    "insert()"
   ]
  },
  {
   "cell_type": "code",
   "execution_count": 53,
   "id": "38a9d9e3",
   "metadata": {},
   "outputs": [
    {
     "name": "stdout",
     "output_type": "stream",
     "text": [
      "[10, 20, 30]\n",
      "[5, 10, 20, 30]\n"
     ]
    }
   ],
   "source": [
    "li = [10,20,30]\n",
    "print(li)\n",
    "li.insert(0,5)\n",
    "print(li)"
   ]
  },
  {
   "cell_type": "markdown",
   "id": "7cf61c95",
   "metadata": {},
   "source": [
    "pop() - based on index"
   ]
  },
  {
   "cell_type": "code",
   "execution_count": 59,
   "id": "46698163",
   "metadata": {},
   "outputs": [
    {
     "name": "stdout",
     "output_type": "stream",
     "text": [
      "[10, 20, 30, 40, 50]\n",
      "[10, 20, 30, 40]\n",
      "[20, 30, 40]\n"
     ]
    }
   ],
   "source": [
    "li = [10,20,30,40,50]\n",
    "print(li)\n",
    "li.pop()\n",
    "print(li)\n",
    "li.pop(-4)\n",
    "print(li)"
   ]
  },
  {
   "cell_type": "markdown",
   "id": "91e7078b",
   "metadata": {},
   "source": [
    "remove() - based on value"
   ]
  },
  {
   "cell_type": "code",
   "execution_count": 60,
   "id": "a4977d3a",
   "metadata": {},
   "outputs": [
    {
     "name": "stdout",
     "output_type": "stream",
     "text": [
      "[50, 40, 30, 20, 10, 10]\n",
      "[50, 40, 30, 20, 10]\n",
      "[50, 40, 30, 20]\n"
     ]
    }
   ],
   "source": [
    "li = [50,40,30,20,10,10]\n",
    "print(li)\n",
    "li.remove(10)\n",
    "print(li)\n",
    "li.remove(10)\n",
    "print(li)"
   ]
  },
  {
   "cell_type": "markdown",
   "id": "5caed91f",
   "metadata": {},
   "source": [
    "reverse()"
   ]
  },
  {
   "cell_type": "code",
   "execution_count": 61,
   "id": "5919ffa4",
   "metadata": {},
   "outputs": [
    {
     "name": "stdout",
     "output_type": "stream",
     "text": [
      "[50, 40, 30, 20, 10]\n",
      "[10, 20, 30, 40, 50]\n"
     ]
    }
   ],
   "source": [
    "li = [50,40,30,20,10]\n",
    "print(li)\n",
    "li.reverse()\n",
    "print(li)"
   ]
  },
  {
   "cell_type": "markdown",
   "id": "2fab75a0",
   "metadata": {},
   "source": [
    "sort()"
   ]
  },
  {
   "cell_type": "code",
   "execution_count": 63,
   "id": "12b5efc3",
   "metadata": {},
   "outputs": [
    {
     "name": "stdout",
     "output_type": "stream",
     "text": [
      "[5, 4, 3, 2, 1]\n",
      "[1, 2, 3, 4, 5]\n",
      "Descending Order\n",
      "[5, 4, 3, 2, 1]\n"
     ]
    }
   ],
   "source": [
    "li = [5,4,3,2,1]\n",
    "print(li)\n",
    "li.sort()\n",
    "print(li)\n",
    "print(\"Descending Order\")\n",
    "li.reverse()\n",
    "print(li)"
   ]
  },
  {
   "cell_type": "markdown",
   "id": "005cb041",
   "metadata": {},
   "source": [
    "extend() - add 2 lists"
   ]
  },
  {
   "cell_type": "code",
   "execution_count": 65,
   "id": "65cfff25",
   "metadata": {},
   "outputs": [
    {
     "name": "stdout",
     "output_type": "stream",
     "text": [
      "[48, 60, 72, 12, 24, 36]\n"
     ]
    }
   ],
   "source": [
    "a = [12,24,36]\n",
    "b=[48,60,72]\n",
    "b.extend(a)\n",
    "print(b)"
   ]
  },
  {
   "cell_type": "code",
   "execution_count": null,
   "id": "ae97863a",
   "metadata": {},
   "outputs": [
    {
     "name": "stdout",
     "output_type": "stream",
     "text": [
      "[12, 24, 36, 12, 24, 36, 12, 24, 36, 12, 24, 36]\n",
      "[12, 24, 36, 12, 24, 36, 12, 24, 36, 12, 24, 36, 12, 24, 36, 12, 24, 36, 12, 24, 36, 12, 24, 36, 12, 24, 36, 12, 24, 36]\n"
     ]
    }
   ],
   "source": [
    "a = [12,24,36]\n",
    "print(a+a+a+a)#concatination\n",
    "print(a*10)#repetition"
   ]
  },
  {
   "cell_type": "markdown",
   "id": "8cdae77a",
   "metadata": {},
   "source": [
    "Write a python program to print the square values of 1 to n using for and while loop"
   ]
  },
  {
   "cell_type": "code",
   "execution_count": 71,
   "id": "676350ee",
   "metadata": {},
   "outputs": [
    {
     "name": "stdout",
     "output_type": "stream",
     "text": [
      "1\n",
      "4\n",
      "9\n",
      "16\n",
      "25\n",
      "36\n",
      "49\n",
      "64\n",
      "81\n",
      "100\n"
     ]
    }
   ],
   "source": [
    "n = int(input())\n",
    "for i in range(1,n+1):\n",
    "    print(i*i)"
   ]
  },
  {
   "cell_type": "code",
   "execution_count": 70,
   "id": "d3f67a91",
   "metadata": {},
   "outputs": [
    {
     "name": "stdout",
     "output_type": "stream",
     "text": [
      "1\n",
      "4\n",
      "9\n",
      "16\n",
      "25\n",
      "36\n",
      "49\n",
      "64\n",
      "81\n",
      "100\n"
     ]
    }
   ],
   "source": [
    "n = int(input())\n",
    "i = 1\n",
    "while(i<=n):\n",
    "    print(i*i)\n",
    "    i += 1\n"
   ]
  },
  {
   "cell_type": "markdown",
   "id": "05d07105",
   "metadata": {},
   "source": [
    "-----------------------------------------------------------------------------------------------"
   ]
  },
  {
   "cell_type": "markdown",
   "id": "d16eba54",
   "metadata": {},
   "source": [
    "Write a python program to read 2 integer values as input from the user and perform the arithmatic operations based on the fallowing conditions                                                                                  \n",
    "1.  addition\n",
    "2.  substraction\n",
    "3.  multiplication\n",
    "4.  division\n",
    "5.  for exit"
   ]
  },
  {
   "cell_type": "code",
   "execution_count": 72,
   "id": "bb0ede8c",
   "metadata": {},
   "outputs": [
    {
     "name": "stdout",
     "output_type": "stream",
     "text": [
      "________Operations Menu _________\n",
      "1.Addition\n",
      "2.Substraction\n",
      "3.Multiplication\n",
      "4.Division\n",
      "5.Exit\n",
      "Product of 4 and 4 is 16\n",
      "________Operations Menu _________\n",
      "1.Addition\n",
      "2.Substraction\n",
      "3.Multiplication\n",
      "4.Division\n",
      "5.Exit\n",
      "Quotient of 4 and 4 is 1.0\n",
      "________Operations Menu _________\n",
      "1.Addition\n",
      "2.Substraction\n",
      "3.Multiplication\n",
      "4.Division\n",
      "5.Exit\n",
      "Thanks for using this menu\n"
     ]
    }
   ],
   "source": [
    "a = int(input(\"Enter the first value : \"))\n",
    "b = int(input(\"Enter the second value : \"))\n",
    "while(True):\n",
    "    print(\"________Operations Menu _________\")\n",
    "    print(\"1.Addition\")\n",
    "    print(\"2.Substraction\")\n",
    "    print(\"3.Multiplication\")\n",
    "    print(\"4.Division\")\n",
    "    print(\"5.Exit\")\n",
    "    choice = int(input(\"Enter Your choice : \"))\n",
    "    if(choice == 1):\n",
    "        print(f\"Summation of {a} and {b} is {a+b}\")\n",
    "    elif(choice == 2):\n",
    "        print(f\"Difference of {a} and {b} is {a-b}\")\n",
    "    elif(choice == 3):\n",
    "        print(f\"Product of {a} and {b} is {a*b}\")\n",
    "    elif(choice == 4):\n",
    "        print(f\"Quotient of {a} and {b} is {a/b}\")\n",
    "    elif(choice == 5):\n",
    "        print(f\"Thanks for using this menu\")\n",
    "        break"
   ]
  },
  {
   "cell_type": "markdown",
   "id": "0dfadb50",
   "metadata": {},
   "source": [
    "---------------------------------------------------------------------------------------------------------"
   ]
  },
  {
   "cell_type": "markdown",
   "id": "df481900",
   "metadata": {},
   "source": [
    "Membership Operator\n",
    "1.  in - True if present false if not present\n",
    "2.  not in - opposite to in"
   ]
  },
  {
   "cell_type": "code",
   "execution_count": 73,
   "id": "e6322d78",
   "metadata": {},
   "outputs": [
    {
     "name": "stdout",
     "output_type": "stream",
     "text": [
      "True\n",
      "False\n",
      "False\n",
      "True\n"
     ]
    }
   ],
   "source": [
    "num = [10,20,30,40,50]\n",
    "print(10 in num)\n",
    "print(10 not in num)\n",
    "print(60 in num)\n",
    "print(60 not in num)"
   ]
  },
  {
   "cell_type": "markdown",
   "id": "139d279b",
   "metadata": {},
   "source": [
    "-------------------------------------------------------------------------------------------"
   ]
  },
  {
   "cell_type": "markdown",
   "id": "4e480804",
   "metadata": {},
   "source": [
    "Your friend is throwing a birthday party and he is confused about finalising guests for birthday party so write a simple program to organize the guest list where\n",
    "1.  To view the guest list\n",
    "2.  to add the guest\n",
    "3.  to check the particular guest is attending the party \n",
    "4.  Remove a guest from guestlist\n",
    "5.  to print the finalized guest list & exit"
   ]
  },
  {
   "cell_type": "code",
   "execution_count": 75,
   "id": "f7587961",
   "metadata": {},
   "outputs": [
    {
     "name": "stdout",
     "output_type": "stream",
     "text": [
      "___________Guest lists operations Menu ____________\n",
      "1.  To view the guest list\n",
      "2.  To add the guest\n",
      "3.  To check the particular guest is attending the party\n",
      "4.  Remove a guest from guestlist\n",
      "5.  to print the finalized guest list & exit\n",
      "\n",
      "Guest list is empty\n",
      "\n",
      "___________Guest lists operations Menu ____________\n",
      "1.  To view the guest list\n",
      "2.  To add the guest\n",
      "3.  To check the particular guest is attending the party\n",
      "4.  Remove a guest from guestlist\n",
      "5.  to print the finalized guest list & exit\n",
      "\n",
      "Athiya's is added to the list\n",
      "\n",
      "___________Guest lists operations Menu ____________\n",
      "1.  To view the guest list\n",
      "2.  To add the guest\n",
      "3.  To check the particular guest is attending the party\n",
      "4.  Remove a guest from guestlist\n",
      "5.  to print the finalized guest list & exit\n",
      "\n",
      "Shammu's is added to the list\n",
      "\n",
      "___________Guest lists operations Menu ____________\n",
      "1.  To view the guest list\n",
      "2.  To add the guest\n",
      "3.  To check the particular guest is attending the party\n",
      "4.  Remove a guest from guestlist\n",
      "5.  to print the finalized guest list & exit\n",
      "\n",
      "Sana's is added to the list\n",
      "\n",
      "___________Guest lists operations Menu ____________\n",
      "1.  To view the guest list\n",
      "2.  To add the guest\n",
      "3.  To check the particular guest is attending the party\n",
      "4.  Remove a guest from guestlist\n",
      "5.  to print the finalized guest list & exit\n",
      "\n",
      "Zeba's is added to the list\n",
      "\n",
      "___________Guest lists operations Menu ____________\n",
      "1.  To view the guest list\n",
      "2.  To add the guest\n",
      "3.  To check the particular guest is attending the party\n",
      "4.  Remove a guest from guestlist\n",
      "5.  to print the finalized guest list & exit\n",
      "\n",
      "Mounika's is added to the list\n",
      "\n",
      "___________Guest lists operations Menu ____________\n",
      "1.  To view the guest list\n",
      "2.  To add the guest\n",
      "3.  To check the particular guest is attending the party\n",
      "4.  Remove a guest from guestlist\n",
      "5.  to print the finalized guest list & exit\n",
      "\n",
      "Athiya's attending the party...................!\n",
      "\n",
      "___________Guest lists operations Menu ____________\n",
      "1.  To view the guest list\n",
      "2.  To add the guest\n",
      "3.  To check the particular guest is attending the party\n",
      "4.  Remove a guest from guestlist\n",
      "5.  to print the finalized guest list & exit\n",
      "\n",
      "Mehaboob's not attending the party..........! \n",
      "\n",
      "___________Guest lists operations Menu ____________\n",
      "1.  To view the guest list\n",
      "2.  To add the guest\n",
      "3.  To check the particular guest is attending the party\n",
      "4.  Remove a guest from guestlist\n",
      "5.  to print the finalized guest list & exit\n",
      "\n",
      "Mounika's removed from list\n",
      "___________Guest lists operations Menu ____________\n",
      "1.  To view the guest list\n",
      "2.  To add the guest\n",
      "3.  To check the particular guest is attending the party\n",
      "4.  Remove a guest from guestlist\n",
      "5.  to print the finalized guest list & exit\n",
      "\n",
      "Finalized guest : \n",
      "\n",
      "['Athiya', 'Shammu', 'Sana', 'Zeba']\n",
      "\n"
     ]
    }
   ],
   "source": [
    "guest_list=[]\n",
    "while(True):\n",
    "    print(\"___________Guest lists operations Menu ____________\")\n",
    "    print(\"1.  To view the guest list\")\n",
    "    print(\"2.  To add the guest\")\n",
    "    print(\"3.  To check the particular guest is attending the party\")\n",
    "    print(\"4.  Remove a guest from guestlist\")\n",
    "    print(\"5.  to print the finalized guest list & exit\")\n",
    "    print()\n",
    "    choice = int(input('Enter Your choice'))\n",
    "    if(choice == 1):\n",
    "        if(len(guest_list)==0):\n",
    "            print(\"Guest list is empty\")\n",
    "            print()\n",
    "        else:\n",
    "            print(\"Guest List :\")\n",
    "            print(guest_list)\n",
    "            print()\n",
    "    elif(choice == 2):\n",
    "        guest = input(\"Enter the Guest name : \")\n",
    "        guest_list.append(guest)\n",
    "        print(f\"{guest}'s is added to the list\")\n",
    "        print()\n",
    "    elif(choice == 3):\n",
    "        guest = input(\"Enter the Guest name : \")\n",
    "        if guest in guest_list:\n",
    "            print(f\"{guest}'s attending the party...................!\")\n",
    "            print()\n",
    "        else:\n",
    "            print(f\"{guest}'s not attending the party..........! \")\n",
    "            print()\n",
    "    elif(choice == 4):\n",
    "        guest = input(\"Enter the name of the guest list\")\n",
    "        if guest in guest_list:\n",
    "            guest_list.remove(guest)\n",
    "            print(f\"{guest}'s removed from list\")\n",
    "        else:\n",
    "            print(f\"{guest}'s not in list\")\n",
    "    elif(choice == 5):\n",
    "        print(\"Finalized guest : \")\n",
    "        print()\n",
    "        print(guest_list)\n",
    "        print()\n",
    "        break"
   ]
  },
  {
   "cell_type": "markdown",
   "id": "b72f52d6",
   "metadata": {},
   "source": [
    "-----------------------------------------------------Assignment Questions-----------------------------------------------------"
   ]
  },
  {
   "cell_type": "markdown",
   "id": "4a3a78ec",
   "metadata": {},
   "source": [
    "Write a python program to remove the negative numbers from the list of number."
   ]
  },
  {
   "cell_type": "code",
   "execution_count": 18,
   "id": "0a98de80",
   "metadata": {},
   "outputs": [
    {
     "name": "stdout",
     "output_type": "stream",
     "text": [
      "[-5, -4, -3, -2, -1, 0, 1, 2, 3, 4, 5, 6, 7]\n",
      "[0, 1, 2, 3, 4, 5, 6, 7]\n"
     ]
    }
   ],
   "source": [
    "li = [-5,-4,-3,-2,-1,0,1,2,3,4,5,6,7]\n",
    "print(li)\n",
    "for i in li[:]:\n",
    "    if i < 0:\n",
    "        li.remove(i)\n",
    "print(li)"
   ]
  },
  {
   "cell_type": "markdown",
   "id": "1d45b788",
   "metadata": {},
   "source": [
    "Write a python Program to print the count of even numbers and odd numbers present in the list"
   ]
  },
  {
   "cell_type": "code",
   "execution_count": 21,
   "id": "40319369",
   "metadata": {},
   "outputs": [
    {
     "name": "stdout",
     "output_type": "stream",
     "text": [
      "Even numbers :  6\n",
      "Odd numbers :  5\n"
     ]
    }
   ],
   "source": [
    "li = [2,3,4,5,6,7,8,9,12,13,14]\n",
    "even,odd=0,0\n",
    "for i in li[:]:\n",
    "    if i%2 == 0:\n",
    "        even += 1\n",
    "    else:\n",
    "        odd += 1\n",
    "print(\"Even numbers : \",even)\n",
    "print(\"Odd numbers : \",odd)"
   ]
  },
  {
   "cell_type": "markdown",
   "id": "aea458c5",
   "metadata": {},
   "source": [
    "Write a python program to declare 2 lists of numbers and concatinate the given lists and sort it in ascending order"
   ]
  },
  {
   "cell_type": "code",
   "execution_count": 23,
   "id": "bdef5a49",
   "metadata": {},
   "outputs": [
    {
     "name": "stdout",
     "output_type": "stream",
     "text": [
      "[1, 3, 5, 7, 9, 11, 13, 15]\n",
      "[2, 4, 6, 8, 10, 12, 14, 16]\n",
      "[1, 3, 5, 7, 9, 11, 13, 15, 2, 4, 6, 8, 10, 12, 14, 16]\n",
      "[1, 2, 3, 4, 5, 6, 7, 8, 9, 10, 11, 12, 13, 14, 15, 16]\n"
     ]
    }
   ],
   "source": [
    "li1 = [1,3,5,7,9,11,13,15]\n",
    "li2 = [2,4,6,8,10,12,14,16]\n",
    "print(li1)\n",
    "print(li2)\n",
    "res = li1+li2\n",
    "print(res)\n",
    "res.sort()\n",
    "print(res)\n"
   ]
  },
  {
   "cell_type": "markdown",
   "id": "e50627ea",
   "metadata": {},
   "source": [
    "Write a python program to print the maximum number present in the list of numbers"
   ]
  },
  {
   "cell_type": "code",
   "execution_count": 24,
   "id": "169e77a3",
   "metadata": {},
   "outputs": [
    {
     "name": "stdout",
     "output_type": "stream",
     "text": [
      "[22, 33, 44, 66, 77, 99, 55, 88]\n",
      "Maximimum of the list is 99\n"
     ]
    }
   ],
   "source": [
    "li = [22,33,44,66,77,99,55,88]\n",
    "print(li)\n",
    "print(f\"Maximimum of the list is {max(li)}\")"
   ]
  },
  {
   "cell_type": "markdown",
   "id": "4b2f3b49",
   "metadata": {},
   "source": [
    "Write a python program to print the second maximum number presnt in the list of numbers"
   ]
  },
  {
   "cell_type": "code",
   "execution_count": 25,
   "id": "35644d75",
   "metadata": {},
   "outputs": [
    {
     "name": "stdout",
     "output_type": "stream",
     "text": [
      "[22, 33, 44, 66, 88, 99, 77, 55]\n",
      "Second maximum of list is 88\n"
     ]
    }
   ],
   "source": [
    "li = [22,33,44,66,88,99,77,55]\n",
    "print(li)\n",
    "li.sort()\n",
    "li.reverse()\n",
    "print(f\"Second maximum of list is {li[1]}\")"
   ]
  }
 ],
 "metadata": {
  "kernelspec": {
   "display_name": "Python 3",
   "language": "python",
   "name": "python3"
  },
  "language_info": {
   "codemirror_mode": {
    "name": "ipython",
    "version": 3
   },
   "file_extension": ".py",
   "mimetype": "text/x-python",
   "name": "python",
   "nbconvert_exporter": "python",
   "pygments_lexer": "ipython3",
   "version": "3.12.6"
  }
 },
 "nbformat": 4,
 "nbformat_minor": 5
}
