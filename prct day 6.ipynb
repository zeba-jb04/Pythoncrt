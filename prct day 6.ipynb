{
 "cells": [
  {
   "cell_type": "markdown",
   "id": "7e6faf27",
   "metadata": {},
   "source": [
    "OBJECT ORIENTED PROGRAMMING\n",
    "1.  ENTITY : anything which has existence or anything which exists.\n",
    "2.  CLASS : it is a logical entity or blue print or a plan to create multiple objects.\n",
    "            multiple objects created using the same class are known as identical objects or similar objects.\n",
    "\n",
    "SYNTAX\n",
    "class classname:\n",
    " constructor\n",
    "     +\n",
    " object creation\n",
    "\n",
    "\n",
    "OBJECT : it is a real world entity. object consists of states & behaviours.  object is also known as instance.\n",
    "SYNTAX :\n",
    "ObjRef = classname()\n",
    "\n",
    "Classname Rules:\n",
    "> the class name can be any valid identifier.\n",
    "> it can't be python reserved word.\n",
    "> a valid class name starts with aletter, followed by any number of letter, numbers or underscores.\n",
    "> a class name generally starts with capital letter.\n",
    "\n",
    "HOW TO CREATE A CLASS\n",
    "to define a class, we use the class keyword.\n",
    "this was an empty class.\n",
    "      class Mobile:\n",
    "\n",
    ">                                                 object\n",
    ">                                     1.states              2.behaviour\n",
    "\n",
    "states : represents the properties or attributes of an entity  (data member)\n",
    "behaviour : functionality of the object  (methods/funtions)   \n",
    "\n",
    ">                                                student\n",
    ">                                    states                  behaviours\n",
    "                                  studentname                bunking classes \n",
    "                                  age                         studying\n",
    "                                  regnum                       exams\n",
    "\n",
    "Datamembers : it is a container or data holder which holds or stores the data.\n",
    ">                                              datamembers\n",
    "                                  > variable                   > constant   \n",
    "\n",
    "1.variable : it is a datamember which holds or stores the data and whose value is not fixed.\n",
    "2.constant :  it is a datamemeber which holds or stores th data and the value is fixed. is                                                                     \n",
    "\n",
    "CONSTRUCTOR\n",
    "A class constructor, if defined is called whenever a program creates an object of that class.\n",
    "A constructor is called only onc at the time of creating an instance.\n",
    "\n",
    "TWO TYPES OF CONSTRUCTORS\n",
    "1.  Parameterized.\n",
    "2.  Non-parameterized.\n",
    "\n",
    "The__init__() Method\n",
    "This is a magic method(dunder method) which we can use to inintialize variables for classes (objects).\n",
    "Every class has __init__ and this is executed when we instantiate the class.\n",
    "\n",
    "SELF KEYWORD\n",
    "self is a default variable that contains the memory address of the current object.\n"
   ]
  },
  {
   "cell_type": "markdown",
   "id": "b04029a8",
   "metadata": {},
   "source": [
    "------------"
   ]
  },
  {
   "cell_type": "code",
   "execution_count": 3,
   "id": "be194261",
   "metadata": {},
   "outputs": [
    {
     "name": "stdout",
     "output_type": "stream",
     "text": [
      "Student Object is Created\n",
      "Student Object is Created\n",
      "Student Object is Created\n",
      "Student Object is Created\n",
      "Student Object is Created\n"
     ]
    }
   ],
   "source": [
    "class Student:\n",
    "    def __init__(self):\n",
    "        print('Student Object is Created')\n",
    "S1=Student()\n",
    "S2=Student()\n",
    "S3=Student()\n",
    "S4=Student()\n",
    "S5=Student()"
   ]
  },
  {
   "cell_type": "markdown",
   "id": "fece7d64",
   "metadata": {},
   "source": [
    "                                                      Variables\n",
    "                                    Global variable                Local variable\n",
    "1.  Global variable : it is a variable which is declared within the class but outside of a method,constructor or block.\n",
    "                       it has global scope.\n",
    "2.  Local variable : it is a variable which is declared within the class but inside of a constructor,method or block.\n",
    "                       it has limited/local slope.\n",
    "\n",
    "                                     "
   ]
  },
  {
   "cell_type": "code",
   "execution_count": 4,
   "id": "2e6dc847",
   "metadata": {},
   "outputs": [
    {
     "name": "stdout",
     "output_type": "stream",
     "text": [
      "Student Name is : Scott\n",
      "Student Age is : 20\n",
      "Student Branch is : CSE\n"
     ]
    }
   ],
   "source": [
    "class Student:\n",
    "    def __init__(self,name,age,branch):\n",
    "        self.Stdname=name\n",
    "        self.Age=age\n",
    "        self.Branch=branch\n",
    "S1=Student(\"Scott\",20,\"CSE\")\n",
    "print(f\"Student Name is : {S1.Stdname}\")  \n",
    "print(f\"Student Age is : {S1.Age}\")\n",
    "print(f\"Student Branch is : {S1.Branch}\")      "
   ]
  },
  {
   "cell_type": "code",
   "execution_count": 5,
   "id": "949fe6d0",
   "metadata": {},
   "outputs": [
    {
     "name": "stdout",
     "output_type": "stream",
     "text": [
      "Student Id is : 22f21a3209\n",
      "Student Num is : 7896898\n",
      "Student Per is : 75\n"
     ]
    }
   ],
   "source": [
    "class Student:\n",
    "    def __init__(self,id,num,per):\n",
    "        self.Stdid=id\n",
    "        self.Stunum=num\n",
    "        self.Stuper=per\n",
    "S1=Student(\"22f21a3209\",7896898,75)\n",
    "print(f\"Student Id is : {S1.Stdid}\")  \n",
    "print(f\"Student Num is : {S1.Stunum}\")\n",
    "print(f\"Student Per is : {S1.Stuper}\")      "
   ]
  },
  {
   "cell_type": "code",
   "execution_count": 8,
   "id": "b7af13b2",
   "metadata": {},
   "outputs": [
    {
     "name": "stdout",
     "output_type": "stream",
     "text": [
      "Student Name is : Scott\n",
      "Student Age is : 20\n",
      "Student Branch is : CSE\n",
      "Student Name is : Adams\n",
      "Student Age is : 21\n",
      "Student Branch is : ECE\n"
     ]
    }
   ],
   "source": [
    "class Student:\n",
    "    def __init__(self,name,age,branch):\n",
    "        self.Stdname=name\n",
    "        self.Age=age\n",
    "        self.Branch=branch\n",
    "    def display(self):\n",
    "        print(f\"Student Name is : {self.Stdname}\")  \n",
    "        print(f\"Student Age is : {self.Age}\")\n",
    "        print(f\"Student Branch is : {self.Branch}\")   \n",
    "S1=Student(\"Scott\",20,\"CSE\")\n",
    "S1.display()  \n",
    "S2=Student(\"Adams\",21,\"ECE\")\n",
    "S2.display()\n"
   ]
  },
  {
   "cell_type": "markdown",
   "id": "91b18b14",
   "metadata": {},
   "source": [
    "Employeenum,emplynum,designation,salry,deptnum create 5 objects and access the details of 5 employee objects using functions"
   ]
  },
  {
   "cell_type": "code",
   "execution_count": 12,
   "id": "cb09e5d3",
   "metadata": {},
   "outputs": [
    {
     "name": "stdout",
     "output_type": "stream",
     "text": [
      "Employee Name is : Scott\n",
      "Employee Num is : 20\n",
      "Designation is : software designer\n",
      "Salary is : 20000\n",
      "DeptNo is : 1\n",
      "Employee Name is : Sandy\n",
      "Employee Num is : 10\n",
      "Designation is : visual designer\n",
      "Salary is : 10000\n",
      "DeptNo is : 2\n"
     ]
    }
   ],
   "source": [
    "class Employee:\n",
    "    def __init__(self,EmpName,EmpNum,Designation,Salary,DeptNo):\n",
    "        self.EmpName=EmpName\n",
    "        self.EmpNum=EmpNum\n",
    "        self.Designation=Designation\n",
    "        self.Salary=Salary\n",
    "        self.DeptNo=DeptNo\n",
    "    def display(self):\n",
    "        print(f\"Employee Name is : {self.EmpName}\")  \n",
    "        print(f\"Employee Num is : {self.EmpNum}\")\n",
    "        print(f\"Designation is : {self.Designation}\")  \n",
    "        print(f\"Salary is : {self.Salary}\") \n",
    "        print(f\"DeptNo is : {self.DeptNo}\")\n",
    "E1=Employee(\"Scott\",20,\"software designer\",20000,1)\n",
    "E1.display()  \n",
    "E2=Employee(\"Sandy\",10,\"visual designer\",10000,2)\n",
    "E2.display()\n",
    "\n",
    "\n"
   ]
  },
  {
   "cell_type": "markdown",
   "id": "d8c0fa19",
   "metadata": {},
   "source": [
    "1.  Create a product class & Declare the states as \n",
    "    ProductName\n",
    "    Price \n",
    "    Discount\n",
    "    GST\n",
    "    Quantity -->create 5 objects & access the data\n",
    "\n",
    "2.  Create a product class & Declare the states as \n",
    "    Name\n",
    "    Age\n",
    "    Gender\n",
    "     -->create 5 objects & access the data\n",
    "    "
   ]
  },
  {
   "cell_type": "markdown",
   "id": "0dd02dbd",
   "metadata": {},
   "source": [
    "TYPES OF METHODS\n",
    "1.  Instance Methods\n",
    "    --Accesssor Methods\n",
    "    --Mutator Methods\n",
    "2.  Class Methods\n",
    "3.  Static Methods\n",
    "\n",
    "Accessor Method\n",
    "This method is used to access or read data of the variables.\n",
    "This method do not modify the data in the variable.\n",
    "This is also called as getter method.\n",
    "ex : \n",
    "def get_value(self):\n",
    "def get_result(self):\n",
    "def get_name(self):\n",
    "def get_id(self):\n",
    "\n",
    "Mutator method\n",
    "This method is used  to access or read and modify data of variable.\n",
    "This method modify the data in the variable.\n",
    "This is also called as setter method.\n",
    "ex : \n",
    "def set_value(self):\n",
    "def set_result(self):\n",
    "def set_name(self):\n",
    "def set_id(self):"
   ]
  },
  {
   "cell_type": "code",
   "execution_count": 14,
   "id": "06e58ab0",
   "metadata": {},
   "outputs": [
    {
     "name": "stdout",
     "output_type": "stream",
     "text": [
      "\n",
      "Student Object is Created....!\n",
      "\n",
      "Student Name is : Scott\n",
      "Student Age is : 21\n",
      "Student branch is : CSE\n"
     ]
    }
   ],
   "source": [
    "class Student:\n",
    "    def __init__(self):\n",
    "        print()\n",
    "        print(\"Student Object is Created....!\")\n",
    "        print()\n",
    "    #mutator or setter methods\n",
    "    def set_name(self,name):\n",
    "        self.name=name\n",
    "    def set_age(self,age):\n",
    "        self.age=age\n",
    "    def set_branch(self,branch):\n",
    "        self.branch=branch\n",
    "    #accessor or getter methods\n",
    "    def get_name(self):\n",
    "        print(f\"Student Name is : {self.name}\")\n",
    "    def get_age(self):\n",
    "        print(f\"Student Age is : {self.age}\")\n",
    "    def get_branch(self):\n",
    "        print(f\"Student branch is : {self.branch}\")   \n",
    "S1=Student()\n",
    "S1.set_name(\"Scott\")\n",
    "S1.set_age(21)\n",
    "S1.set_branch(\"CSE\")\n",
    "S1.get_name()\n",
    "S1.get_age()\n",
    "S1.get_branch()                                "
   ]
  },
  {
   "cell_type": "markdown",
   "id": "3dea512c",
   "metadata": {},
   "source": [
    "Class Methods\n",
    "Class methods are the methods which act upon the class variables or static variable of the class.\n",
    "Decorator @classmethod need to write above the class method.\n",
    "By default, the frist parameter of class method is cls which refers to the class itself.\n"
   ]
  },
  {
   "cell_type": "code",
   "execution_count": 16,
   "id": "c29ebcb6",
   "metadata": {},
   "outputs": [
    {
     "name": "stdout",
     "output_type": "stream",
     "text": [
      "RealMe X\n"
     ]
    }
   ],
   "source": [
    "#Class Method w/o Parameter\n",
    "class Mobile:\n",
    "    @classmethod                     #Decorator\n",
    "    def show_model(cls):             #Class Method \n",
    "        print(\"RealMe X\")\n",
    "realme = Mobile()\n",
    "realme.show_model()                         \n"
   ]
  },
  {
   "cell_type": "markdown",
   "id": "6a4cde05",
   "metadata": {},
   "source": [
    "Static Methods\n",
    "Static Methods are used when some processing is related to the class but does not need the class or it's instances to perform any work.\n",
    "We use static method when we want to pass some values from outside and perform some action in the method.\n",
    "Decorator @staticmethod need to write above the static method. "
   ]
  },
  {
   "cell_type": "code",
   "execution_count": 17,
   "id": "cf679478",
   "metadata": {},
   "outputs": [
    {
     "name": "stdout",
     "output_type": "stream",
     "text": [
      "Realme X\n"
     ]
    }
   ],
   "source": [
    "#Static Method w/o Parameter\n",
    "class Mobile:\n",
    "    @staticmethod\n",
    "    def show_model():\n",
    "        print(\"Realme X\")\n",
    "realme = Mobile()\n",
    "realme.show_model()                         \n",
    "\n"
   ]
  },
  {
   "cell_type": "markdown",
   "id": "98e71136",
   "metadata": {},
   "source": [
    "INHERITANCE\n",
    "The mechanism of deriving a new class from an old one(existing class) such that the new class inherit all the members(variables and methods) of old class is called inheritance or derivation.\n",
    "\n",
    "Super Class and Sub Class\n",
    "The old class is referred to as the Super class and the new one is called the sub class.\n",
    "Parent Class  -- Base Class or Super Class\n",
    "Child Class -- derived class or sub class  "
   ]
  },
  {
   "cell_type": "code",
   "execution_count": 18,
   "id": "3ea66abf",
   "metadata": {},
   "outputs": [
    {
     "name": "stdout",
     "output_type": "stream",
     "text": [
      "Person Class Object is Created\n",
      "Student class object is created\n"
     ]
    }
   ],
   "source": [
    "class Person:\n",
    "    def __init__(self,Name,Age,Gender):\n",
    "        print(\"Person Class Object is Created\")\n",
    "        self.Name=Name\n",
    "        self.Age=Age\n",
    "        self.Gender=Gender\n",
    "class Student(Person):\n",
    "    def __init__(self,Name,Age,Gender,Id,Branch):\n",
    "        super().__init__(Name,Age,Gender)\n",
    "        self.Id=Id\n",
    "        self.Branch=Branch\n",
    "        print(\"Student class object is created\")\n",
    "s1=Student(1,2,3,4,5)                "
   ]
  }
 ],
 "metadata": {
  "kernelspec": {
   "display_name": "Python 3",
   "language": "python",
   "name": "python3"
  },
  "language_info": {
   "codemirror_mode": {
    "name": "ipython",
    "version": 3
   },
   "file_extension": ".py",
   "mimetype": "text/x-python",
   "name": "python",
   "nbconvert_exporter": "python",
   "pygments_lexer": "ipython3",
   "version": "3.13.3"
  }
 },
 "nbformat": 4,
 "nbformat_minor": 5
}
